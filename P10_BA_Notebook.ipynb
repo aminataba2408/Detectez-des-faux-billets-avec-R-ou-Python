{
 "cells": [
  {
   "cell_type": "markdown",
   "id": "fd0cb49b",
   "metadata": {},
   "source": [
    "# P10 : Detection de faux billets"
   ]
  },
  {
   "cell_type": "code",
   "execution_count": 1,
   "id": "bcdbad4f",
   "metadata": {},
   "outputs": [],
   "source": [
    "import pandas as pd\n",
    "import numpy as np\n",
    "import matplotlib.pyplot as plt\n",
    "import seaborn as sns"
   ]
  },
  {
   "cell_type": "markdown",
   "id": "e468fac5",
   "metadata": {},
   "source": [
    "## Import du fichier CSV billet"
   ]
  },
  {
   "cell_type": "code",
   "execution_count": 2,
   "id": "cf85acc4",
   "metadata": {},
   "outputs": [
    {
     "data": {
      "text/html": [
       "<div>\n",
       "<style scoped>\n",
       "    .dataframe tbody tr th:only-of-type {\n",
       "        vertical-align: middle;\n",
       "    }\n",
       "\n",
       "    .dataframe tbody tr th {\n",
       "        vertical-align: top;\n",
       "    }\n",
       "\n",
       "    .dataframe thead th {\n",
       "        text-align: right;\n",
       "    }\n",
       "</style>\n",
       "<table border=\"1\" class=\"dataframe\">\n",
       "  <thead>\n",
       "    <tr style=\"text-align: right;\">\n",
       "      <th></th>\n",
       "      <th>is_genuine</th>\n",
       "      <th>diagonal</th>\n",
       "      <th>height_left</th>\n",
       "      <th>height_right</th>\n",
       "      <th>margin_low</th>\n",
       "      <th>margin_up</th>\n",
       "      <th>length</th>\n",
       "    </tr>\n",
       "  </thead>\n",
       "  <tbody>\n",
       "    <tr>\n",
       "      <th>0</th>\n",
       "      <td>True</td>\n",
       "      <td>171.81</td>\n",
       "      <td>104.86</td>\n",
       "      <td>104.95</td>\n",
       "      <td>4.52</td>\n",
       "      <td>2.89</td>\n",
       "      <td>112.83</td>\n",
       "    </tr>\n",
       "    <tr>\n",
       "      <th>1</th>\n",
       "      <td>True</td>\n",
       "      <td>171.46</td>\n",
       "      <td>103.36</td>\n",
       "      <td>103.66</td>\n",
       "      <td>3.77</td>\n",
       "      <td>2.99</td>\n",
       "      <td>113.09</td>\n",
       "    </tr>\n",
       "    <tr>\n",
       "      <th>2</th>\n",
       "      <td>True</td>\n",
       "      <td>172.69</td>\n",
       "      <td>104.48</td>\n",
       "      <td>103.50</td>\n",
       "      <td>4.40</td>\n",
       "      <td>2.94</td>\n",
       "      <td>113.16</td>\n",
       "    </tr>\n",
       "    <tr>\n",
       "      <th>3</th>\n",
       "      <td>True</td>\n",
       "      <td>171.36</td>\n",
       "      <td>103.91</td>\n",
       "      <td>103.94</td>\n",
       "      <td>3.62</td>\n",
       "      <td>3.01</td>\n",
       "      <td>113.51</td>\n",
       "    </tr>\n",
       "    <tr>\n",
       "      <th>4</th>\n",
       "      <td>True</td>\n",
       "      <td>171.73</td>\n",
       "      <td>104.28</td>\n",
       "      <td>103.46</td>\n",
       "      <td>4.04</td>\n",
       "      <td>3.48</td>\n",
       "      <td>112.54</td>\n",
       "    </tr>\n",
       "    <tr>\n",
       "      <th>...</th>\n",
       "      <td>...</td>\n",
       "      <td>...</td>\n",
       "      <td>...</td>\n",
       "      <td>...</td>\n",
       "      <td>...</td>\n",
       "      <td>...</td>\n",
       "      <td>...</td>\n",
       "    </tr>\n",
       "    <tr>\n",
       "      <th>1495</th>\n",
       "      <td>False</td>\n",
       "      <td>171.75</td>\n",
       "      <td>104.38</td>\n",
       "      <td>104.17</td>\n",
       "      <td>4.42</td>\n",
       "      <td>3.09</td>\n",
       "      <td>111.28</td>\n",
       "    </tr>\n",
       "    <tr>\n",
       "      <th>1496</th>\n",
       "      <td>False</td>\n",
       "      <td>172.19</td>\n",
       "      <td>104.63</td>\n",
       "      <td>104.44</td>\n",
       "      <td>5.27</td>\n",
       "      <td>3.37</td>\n",
       "      <td>110.97</td>\n",
       "    </tr>\n",
       "    <tr>\n",
       "      <th>1497</th>\n",
       "      <td>False</td>\n",
       "      <td>171.80</td>\n",
       "      <td>104.01</td>\n",
       "      <td>104.12</td>\n",
       "      <td>5.51</td>\n",
       "      <td>3.36</td>\n",
       "      <td>111.95</td>\n",
       "    </tr>\n",
       "    <tr>\n",
       "      <th>1498</th>\n",
       "      <td>False</td>\n",
       "      <td>172.06</td>\n",
       "      <td>104.28</td>\n",
       "      <td>104.06</td>\n",
       "      <td>5.17</td>\n",
       "      <td>3.46</td>\n",
       "      <td>112.25</td>\n",
       "    </tr>\n",
       "    <tr>\n",
       "      <th>1499</th>\n",
       "      <td>False</td>\n",
       "      <td>171.47</td>\n",
       "      <td>104.15</td>\n",
       "      <td>103.82</td>\n",
       "      <td>4.63</td>\n",
       "      <td>3.37</td>\n",
       "      <td>112.07</td>\n",
       "    </tr>\n",
       "  </tbody>\n",
       "</table>\n",
       "<p>1500 rows × 7 columns</p>\n",
       "</div>"
      ],
      "text/plain": [
       "      is_genuine  diagonal  height_left  height_right  margin_low  margin_up  \\\n",
       "0           True    171.81       104.86        104.95        4.52       2.89   \n",
       "1           True    171.46       103.36        103.66        3.77       2.99   \n",
       "2           True    172.69       104.48        103.50        4.40       2.94   \n",
       "3           True    171.36       103.91        103.94        3.62       3.01   \n",
       "4           True    171.73       104.28        103.46        4.04       3.48   \n",
       "...          ...       ...          ...           ...         ...        ...   \n",
       "1495       False    171.75       104.38        104.17        4.42       3.09   \n",
       "1496       False    172.19       104.63        104.44        5.27       3.37   \n",
       "1497       False    171.80       104.01        104.12        5.51       3.36   \n",
       "1498       False    172.06       104.28        104.06        5.17       3.46   \n",
       "1499       False    171.47       104.15        103.82        4.63       3.37   \n",
       "\n",
       "      length  \n",
       "0     112.83  \n",
       "1     113.09  \n",
       "2     113.16  \n",
       "3     113.51  \n",
       "4     112.54  \n",
       "...      ...  \n",
       "1495  111.28  \n",
       "1496  110.97  \n",
       "1497  111.95  \n",
       "1498  112.25  \n",
       "1499  112.07  \n",
       "\n",
       "[1500 rows x 7 columns]"
      ]
     },
     "execution_count": 2,
     "metadata": {},
     "output_type": "execute_result"
    }
   ],
   "source": [
    "# changement du fichier billet.csv\n",
    "df_billet = pd.read_csv('C:/Users/p092279/Desktop/Documents/Data Analyst/P10/billets.csv',sep=';')\n",
    "df_billet"
   ]
  },
  {
   "cell_type": "code",
   "execution_count": 3,
   "id": "aeb353f5",
   "metadata": {},
   "outputs": [
    {
     "data": {
      "text/html": [
       "<div>\n",
       "<style scoped>\n",
       "    .dataframe tbody tr th:only-of-type {\n",
       "        vertical-align: middle;\n",
       "    }\n",
       "\n",
       "    .dataframe tbody tr th {\n",
       "        vertical-align: top;\n",
       "    }\n",
       "\n",
       "    .dataframe thead th {\n",
       "        text-align: right;\n",
       "    }\n",
       "</style>\n",
       "<table border=\"1\" class=\"dataframe\">\n",
       "  <thead>\n",
       "    <tr style=\"text-align: right;\">\n",
       "      <th></th>\n",
       "      <th>diagonal</th>\n",
       "      <th>height_left</th>\n",
       "      <th>height_right</th>\n",
       "      <th>margin_low</th>\n",
       "      <th>margin_up</th>\n",
       "      <th>length</th>\n",
       "    </tr>\n",
       "  </thead>\n",
       "  <tbody>\n",
       "    <tr>\n",
       "      <th>count</th>\n",
       "      <td>1500.000000</td>\n",
       "      <td>1500.000000</td>\n",
       "      <td>1500.000000</td>\n",
       "      <td>1463.000000</td>\n",
       "      <td>1500.000000</td>\n",
       "      <td>1500.00000</td>\n",
       "    </tr>\n",
       "    <tr>\n",
       "      <th>mean</th>\n",
       "      <td>171.958440</td>\n",
       "      <td>104.029533</td>\n",
       "      <td>103.920307</td>\n",
       "      <td>4.485967</td>\n",
       "      <td>3.151473</td>\n",
       "      <td>112.67850</td>\n",
       "    </tr>\n",
       "    <tr>\n",
       "      <th>std</th>\n",
       "      <td>0.305195</td>\n",
       "      <td>0.299462</td>\n",
       "      <td>0.325627</td>\n",
       "      <td>0.663813</td>\n",
       "      <td>0.231813</td>\n",
       "      <td>0.87273</td>\n",
       "    </tr>\n",
       "    <tr>\n",
       "      <th>min</th>\n",
       "      <td>171.040000</td>\n",
       "      <td>103.140000</td>\n",
       "      <td>102.820000</td>\n",
       "      <td>2.980000</td>\n",
       "      <td>2.270000</td>\n",
       "      <td>109.49000</td>\n",
       "    </tr>\n",
       "    <tr>\n",
       "      <th>25%</th>\n",
       "      <td>171.750000</td>\n",
       "      <td>103.820000</td>\n",
       "      <td>103.710000</td>\n",
       "      <td>4.015000</td>\n",
       "      <td>2.990000</td>\n",
       "      <td>112.03000</td>\n",
       "    </tr>\n",
       "    <tr>\n",
       "      <th>50%</th>\n",
       "      <td>171.960000</td>\n",
       "      <td>104.040000</td>\n",
       "      <td>103.920000</td>\n",
       "      <td>4.310000</td>\n",
       "      <td>3.140000</td>\n",
       "      <td>112.96000</td>\n",
       "    </tr>\n",
       "    <tr>\n",
       "      <th>75%</th>\n",
       "      <td>172.170000</td>\n",
       "      <td>104.230000</td>\n",
       "      <td>104.150000</td>\n",
       "      <td>4.870000</td>\n",
       "      <td>3.310000</td>\n",
       "      <td>113.34000</td>\n",
       "    </tr>\n",
       "    <tr>\n",
       "      <th>max</th>\n",
       "      <td>173.010000</td>\n",
       "      <td>104.880000</td>\n",
       "      <td>104.950000</td>\n",
       "      <td>6.900000</td>\n",
       "      <td>3.910000</td>\n",
       "      <td>114.44000</td>\n",
       "    </tr>\n",
       "  </tbody>\n",
       "</table>\n",
       "</div>"
      ],
      "text/plain": [
       "          diagonal  height_left  height_right   margin_low    margin_up  \\\n",
       "count  1500.000000  1500.000000   1500.000000  1463.000000  1500.000000   \n",
       "mean    171.958440   104.029533    103.920307     4.485967     3.151473   \n",
       "std       0.305195     0.299462      0.325627     0.663813     0.231813   \n",
       "min     171.040000   103.140000    102.820000     2.980000     2.270000   \n",
       "25%     171.750000   103.820000    103.710000     4.015000     2.990000   \n",
       "50%     171.960000   104.040000    103.920000     4.310000     3.140000   \n",
       "75%     172.170000   104.230000    104.150000     4.870000     3.310000   \n",
       "max     173.010000   104.880000    104.950000     6.900000     3.910000   \n",
       "\n",
       "           length  \n",
       "count  1500.00000  \n",
       "mean    112.67850  \n",
       "std       0.87273  \n",
       "min     109.49000  \n",
       "25%     112.03000  \n",
       "50%     112.96000  \n",
       "75%     113.34000  \n",
       "max     114.44000  "
      ]
     },
     "execution_count": 3,
     "metadata": {},
     "output_type": "execute_result"
    }
   ],
   "source": [
    "# Voir les statistiques de chaque colonne du tableau\n",
    "df_billet.describe()"
   ]
  },
  {
   "cell_type": "code",
   "execution_count": 4,
   "id": "efff9fdf",
   "metadata": {},
   "outputs": [
    {
     "name": "stdout",
     "output_type": "stream",
     "text": [
      "Valeurs dupliquées :  0\n"
     ]
    }
   ],
   "source": [
    "# Recherche des valeurs dupliquées\n",
    "print('Valeurs dupliquées : ', df_billet.duplicated().sum())"
   ]
  },
  {
   "cell_type": "markdown",
   "id": "805333c9",
   "metadata": {},
   "source": [
    "On ne trouve pas de valeurs dupliquées dans nos données."
   ]
  },
  {
   "cell_type": "code",
   "execution_count": 5,
   "id": "164e7f59",
   "metadata": {},
   "outputs": [
    {
     "name": "stdout",
     "output_type": "stream",
     "text": [
      "<class 'pandas.core.frame.DataFrame'>\n",
      "RangeIndex: 1500 entries, 0 to 1499\n",
      "Data columns (total 7 columns):\n",
      " #   Column        Non-Null Count  Dtype  \n",
      "---  ------        --------------  -----  \n",
      " 0   is_genuine    1500 non-null   bool   \n",
      " 1   diagonal      1500 non-null   float64\n",
      " 2   height_left   1500 non-null   float64\n",
      " 3   height_right  1500 non-null   float64\n",
      " 4   margin_low    1463 non-null   float64\n",
      " 5   margin_up     1500 non-null   float64\n",
      " 6   length        1500 non-null   float64\n",
      "dtypes: bool(1), float64(6)\n",
      "memory usage: 71.9 KB\n"
     ]
    }
   ],
   "source": [
    "df_billet.info() # valeurs maquantes"
   ]
  },
  {
   "cell_type": "code",
   "execution_count": 6,
   "id": "eeca0512",
   "metadata": {},
   "outputs": [
    {
     "data": {
      "text/plain": [
       "is_genuine      0.000000\n",
       "diagonal        0.000000\n",
       "height_left     0.000000\n",
       "height_right    0.000000\n",
       "margin_low      0.024667\n",
       "margin_up       0.000000\n",
       "length          0.000000\n",
       "dtype: float64"
      ]
     },
     "execution_count": 6,
     "metadata": {},
     "output_type": "execute_result"
    }
   ],
   "source": [
    "missing_rate = df_billet.isna().sum()/df_billet.shape[0]\n",
    "missing_rate"
   ]
  },
  {
   "cell_type": "markdown",
   "id": "ff628c0e",
   "metadata": {},
   "source": [
    "\"Margin_low comprend 37 valeurs manquantes(1463 valeurs sur les 1500 attendues), soit 2% du dataframe.\n",
    "\n",
    "la représentativité des valeurs manquantes dans le dataset etant faible (2%) nous pourvions les supprimer sans qu'ils aient un impact sur notre analyse. Mais nous allons faire une regression lineaire pour combler les valeurs manquantes."
   ]
  },
  {
   "cell_type": "markdown",
   "id": "aa0536eb",
   "metadata": {},
   "source": [
    "## Regression Linéaire :"
   ]
  },
  {
   "cell_type": "markdown",
   "id": "be4f138a",
   "metadata": {},
   "source": [
    "On cherche à voir s'il est possible calculer la variable margin_low en fonction des autres variables."
   ]
  },
  {
   "cell_type": "code",
   "execution_count": 7,
   "id": "b4f452f7",
   "metadata": {},
   "outputs": [],
   "source": [
    "#entrainement du modèle\n",
    "from sklearn.linear_model import LinearRegression\n",
    "\n",
    "# Separation des données\n",
    "df_reg_lin_train = df_billet[df_billet['margin_low'].isnull() == False]\n",
    "df_reg_lin_test = df_billet[df_billet['margin_low'].isna()]"
   ]
  },
  {
   "cell_type": "code",
   "execution_count": 8,
   "id": "a85ed542",
   "metadata": {},
   "outputs": [],
   "source": [
    "# Création du modéle X,y sur margin_low\n",
    "X_train = df_reg_lin_train.drop(['margin_low'], axis=1)\n",
    "y_train = df_reg_lin_train['margin_low']\n"
   ]
  },
  {
   "cell_type": "code",
   "execution_count": 9,
   "id": "125c62c1",
   "metadata": {},
   "outputs": [
    {
     "data": {
      "text/plain": [
       "LinearRegression()"
      ]
     },
     "execution_count": 9,
     "metadata": {},
     "output_type": "execute_result"
    }
   ],
   "source": [
    "# affinage des résultats\n",
    "model = LinearRegression()\n",
    "model.fit(X_train, y_train)"
   ]
  },
  {
   "cell_type": "code",
   "execution_count": 10,
   "id": "f2d20c22",
   "metadata": {},
   "outputs": [
    {
     "name": "stderr",
     "output_type": "stream",
     "text": [
      "<ipython-input-10-bf057c5f314f>:3: SettingWithCopyWarning: \n",
      "A value is trying to be set on a copy of a slice from a DataFrame.\n",
      "Try using .loc[row_indexer,col_indexer] = value instead\n",
      "\n",
      "See the caveats in the documentation: https://pandas.pydata.org/pandas-docs/stable/user_guide/indexing.html#returning-a-view-versus-a-copy\n",
      "  df_reg_lin_train[\"margin_low_pred\"] = model.predict(x_train)\n"
     ]
    }
   ],
   "source": [
    "# Predictions:\n",
    "x_train = df_reg_lin_train[[\"is_genuine\",\"diagonal\",\"height_left\",\"height_right\", \"margin_up\", \"length\"]]\n",
    "df_reg_lin_train[\"margin_low_pred\"] = model.predict(x_train)"
   ]
  },
  {
   "cell_type": "code",
   "execution_count": 11,
   "id": "143c1194",
   "metadata": {},
   "outputs": [
    {
     "name": "stdout",
     "output_type": "stream",
     "text": [
      "Intercept: 2.8668228920543575\n",
      "Coéfficients: [-1.14059676 -0.0130159   0.02829069  0.02674982 -0.21284432 -0.00388299]\n"
     ]
    }
   ],
   "source": [
    "print(\"Intercept:\", model.intercept_)\n",
    "print(\"Coéfficients:\", model.coef_)"
   ]
  },
  {
   "cell_type": "markdown",
   "id": "2155b4ca",
   "metadata": {},
   "source": [
    "### Interpretation du modèle"
   ]
  },
  {
   "cell_type": "markdown",
   "id": "149d2a36",
   "metadata": {},
   "source": [
    "Nous utilisons la methode des Moindres Carrés ordinaires (MCO) pour ajuster notre modèle."
   ]
  },
  {
   "cell_type": "code",
   "execution_count": 12,
   "id": "bf0cf411",
   "metadata": {},
   "outputs": [
    {
     "name": "stdout",
     "output_type": "stream",
     "text": [
      "                            OLS Regression Results                            \n",
      "==============================================================================\n",
      "Dep. Variable:             margin_low   R-squared:                       0.617\n",
      "Model:                            OLS   Adj. R-squared:                  0.615\n",
      "Method:                 Least Squares   F-statistic:                     390.7\n",
      "Date:                Wed, 04 May 2022   Prob (F-statistic):          4.75e-299\n",
      "Time:                        21:41:33   Log-Likelihood:                -774.14\n",
      "No. Observations:                1463   AIC:                             1562.\n",
      "Df Residuals:                    1456   BIC:                             1599.\n",
      "Df Model:                           6                                         \n",
      "Covariance Type:            nonrobust                                         \n",
      "======================================================================================\n",
      "                         coef    std err          t      P>|t|      [0.025      0.975]\n",
      "--------------------------------------------------------------------------------------\n",
      "Intercept              2.8668      8.316      0.345      0.730     -13.445      19.179\n",
      "is_genuine[T.True]    -1.1406      0.050    -23.028      0.000      -1.238      -1.043\n",
      "diagonal              -0.0130      0.036     -0.364      0.716      -0.083       0.057\n",
      "height_left            0.0283      0.039      0.727      0.468      -0.048       0.105\n",
      "height_right           0.0267      0.038      0.701      0.484      -0.048       0.102\n",
      "margin_up             -0.2128      0.059     -3.621      0.000      -0.328      -0.098\n",
      "length                -0.0039      0.023     -0.166      0.868      -0.050       0.042\n",
      "==============================================================================\n",
      "Omnibus:                       21.975   Durbin-Watson:                   2.038\n",
      "Prob(Omnibus):                  0.000   Jarque-Bera (JB):               37.993\n",
      "Skew:                           0.061   Prob(JB):                     5.62e-09\n",
      "Kurtosis:                       3.780   Cond. No.                     1.95e+05\n",
      "==============================================================================\n",
      "\n",
      "Notes:\n",
      "[1] Standard Errors assume that the covariance matrix of the errors is correctly specified.\n",
      "[2] The condition number is large, 1.95e+05. This might indicate that there are\n",
      "strong multicollinearity or other numerical problems.\n"
     ]
    }
   ],
   "source": [
    "import statsmodels.formula.api as smf\n",
    "# Instanciation:\n",
    "reg_linb = smf.ols(\"margin_low ~ diagonal + height_left + height_right + margin_up + length + is_genuine\", data = df_reg_lin_train)\n",
    "\n",
    "# Calculs:\n",
    "res_lin = reg_linb.fit()\n",
    "print(res_lin.summary())"
   ]
  },
  {
   "cell_type": "markdown",
   "id": "15798759",
   "metadata": {},
   "source": [
    "### Retirez les variables non significatives"
   ]
  },
  {
   "cell_type": "markdown",
   "id": "86a4b463",
   "metadata": {},
   "source": [
    "Si nous définissons alpha=0,05 comme le seuil pour qu'une variable soir signficatif, nous pouvons la variable \"lenght\" qui est la moins significative (p_value=0.868)"
   ]
  },
  {
   "cell_type": "code",
   "execution_count": 13,
   "id": "f6ebe5d8",
   "metadata": {},
   "outputs": [
    {
     "name": "stdout",
     "output_type": "stream",
     "text": [
      "                            OLS Regression Results                            \n",
      "==============================================================================\n",
      "Dep. Variable:             margin_low   R-squared:                       0.617\n",
      "Model:                            OLS   Adj. R-squared:                  0.616\n",
      "Method:                 Least Squares   F-statistic:                     469.2\n",
      "Date:                Wed, 04 May 2022   Prob (F-statistic):          2.12e-300\n",
      "Time:                        21:41:33   Log-Likelihood:                -774.15\n",
      "No. Observations:                1463   AIC:                             1560.\n",
      "Df Residuals:                    1457   BIC:                             1592.\n",
      "Df Model:                           5                                         \n",
      "Covariance Type:            nonrobust                                         \n",
      "======================================================================================\n",
      "                         coef    std err          t      P>|t|      [0.025      0.975]\n",
      "--------------------------------------------------------------------------------------\n",
      "Intercept              2.4247      7.873      0.308      0.758     -13.019      17.868\n",
      "is_genuine[T.True]    -1.1468      0.033    -35.058      0.000      -1.211      -1.083\n",
      "diagonal              -0.0129      0.036     -0.360      0.719      -0.083       0.057\n",
      "height_left            0.0282      0.039      0.726      0.468      -0.048       0.105\n",
      "height_right           0.0266      0.038      0.697      0.486      -0.048       0.101\n",
      "margin_up             -0.2128      0.059     -3.622      0.000      -0.328      -0.098\n",
      "==============================================================================\n",
      "Omnibus:                       22.048   Durbin-Watson:                   2.038\n",
      "Prob(Omnibus):                  0.000   Jarque-Bera (JB):               38.188\n",
      "Skew:                           0.060   Prob(JB):                     5.10e-09\n",
      "Kurtosis:                       3.782   Cond. No.                     1.66e+05\n",
      "==============================================================================\n",
      "\n",
      "Notes:\n",
      "[1] Standard Errors assume that the covariance matrix of the errors is correctly specified.\n",
      "[2] The condition number is large, 1.66e+05. This might indicate that there are\n",
      "strong multicollinearity or other numerical problems.\n"
     ]
    }
   ],
   "source": [
    "# Instanciation:\n",
    "reg_linb = smf.ols(\"margin_low ~ diagonal + height_left + height_right + margin_up + is_genuine\", data = df_reg_lin_train)\n",
    "\n",
    "# Calculs:\n",
    "res_lin = reg_linb.fit()\n",
    "print(res_lin.summary())"
   ]
  },
  {
   "cell_type": "markdown",
   "id": "2597c924",
   "metadata": {},
   "source": [
    "on supprime la variable \"diagonal\" qui est la moins significative (p_value=0.719)"
   ]
  },
  {
   "cell_type": "code",
   "execution_count": 14,
   "id": "30782517",
   "metadata": {},
   "outputs": [
    {
     "name": "stdout",
     "output_type": "stream",
     "text": [
      "                            OLS Regression Results                            \n",
      "==============================================================================\n",
      "Dep. Variable:             margin_low   R-squared:                       0.617\n",
      "Model:                            OLS   Adj. R-squared:                  0.616\n",
      "Method:                 Least Squares   F-statistic:                     586.8\n",
      "Date:                Wed, 04 May 2022   Prob (F-statistic):          8.76e-302\n",
      "Time:                        21:41:33   Log-Likelihood:                -774.21\n",
      "No. Observations:                1463   AIC:                             1558.\n",
      "Df Residuals:                    1458   BIC:                             1585.\n",
      "Df Model:                           4                                         \n",
      "Covariance Type:            nonrobust                                         \n",
      "======================================================================================\n",
      "                         coef    std err          t      P>|t|      [0.025      0.975]\n",
      "--------------------------------------------------------------------------------------\n",
      "Intercept              0.3902      5.476      0.071      0.943     -10.351      11.132\n",
      "is_genuine[T.True]    -1.1485      0.032    -35.516      0.000      -1.212      -1.085\n",
      "height_left            0.0273      0.039      0.702      0.483      -0.049       0.103\n",
      "height_right           0.0259      0.038      0.681      0.496      -0.049       0.101\n",
      "margin_up             -0.2134      0.059     -3.634      0.000      -0.329      -0.098\n",
      "==============================================================================\n",
      "Omnibus:                       22.292   Durbin-Watson:                   2.038\n",
      "Prob(Omnibus):                  0.000   Jarque-Bera (JB):               38.839\n",
      "Skew:                           0.059   Prob(JB):                     3.68e-09\n",
      "Kurtosis:                       3.790   Cond. No.                     7.49e+04\n",
      "==============================================================================\n",
      "\n",
      "Notes:\n",
      "[1] Standard Errors assume that the covariance matrix of the errors is correctly specified.\n",
      "[2] The condition number is large, 7.49e+04. This might indicate that there are\n",
      "strong multicollinearity or other numerical problems.\n"
     ]
    }
   ],
   "source": [
    "# Instanciation:\n",
    "reg_linb = smf.ols(\"margin_low ~ height_left + height_right + margin_up + is_genuine\", data = df_reg_lin_train)\n",
    "\n",
    "# Calculs:\n",
    "res_lin = reg_linb.fit()\n",
    "print(res_lin.summary())"
   ]
  },
  {
   "cell_type": "markdown",
   "id": "6fcdd1c2",
   "metadata": {},
   "source": [
    "on supprime la variable \"height_right\" qui est la moins significative (p_value=0.496)"
   ]
  },
  {
   "cell_type": "code",
   "execution_count": 15,
   "id": "cf1b1a80",
   "metadata": {},
   "outputs": [
    {
     "name": "stdout",
     "output_type": "stream",
     "text": [
      "                            OLS Regression Results                            \n",
      "==============================================================================\n",
      "Dep. Variable:             margin_low   R-squared:                       0.617\n",
      "Model:                            OLS   Adj. R-squared:                  0.616\n",
      "Method:                 Least Squares   F-statistic:                     782.5\n",
      "Date:                Wed, 04 May 2022   Prob (F-statistic):          3.63e-303\n",
      "Time:                        21:41:33   Log-Likelihood:                -774.45\n",
      "No. Observations:                1463   AIC:                             1557.\n",
      "Df Residuals:                    1459   BIC:                             1578.\n",
      "Df Model:                           3                                         \n",
      "Covariance Type:            nonrobust                                         \n",
      "======================================================================================\n",
      "                         coef    std err          t      P>|t|      [0.025      0.975]\n",
      "--------------------------------------------------------------------------------------\n",
      "Intercept              2.9104      4.035      0.721      0.471      -5.005      10.826\n",
      "is_genuine[T.True]    -1.1566      0.030    -38.480      0.000      -1.216      -1.098\n",
      "height_left            0.0290      0.039      0.748      0.454      -0.047       0.105\n",
      "margin_up             -0.2129      0.059     -3.627      0.000      -0.328      -0.098\n",
      "==============================================================================\n",
      "Omnibus:                       22.470   Durbin-Watson:                   2.039\n",
      "Prob(Omnibus):                  0.000   Jarque-Bera (JB):               39.302\n",
      "Skew:                           0.058   Prob(JB):                     2.92e-09\n",
      "Kurtosis:                       3.795   Cond. No.                     3.91e+04\n",
      "==============================================================================\n",
      "\n",
      "Notes:\n",
      "[1] Standard Errors assume that the covariance matrix of the errors is correctly specified.\n",
      "[2] The condition number is large, 3.91e+04. This might indicate that there are\n",
      "strong multicollinearity or other numerical problems.\n"
     ]
    }
   ],
   "source": [
    "# Instanciation:\n",
    "reg_linb = smf.ols(\"margin_low ~ height_left + margin_up + is_genuine\", data = df_reg_lin_train)\n",
    "\n",
    "# Calculs:\n",
    "res_lin = reg_linb.fit()\n",
    "print(res_lin.summary())"
   ]
  },
  {
   "cell_type": "markdown",
   "id": "58112e95",
   "metadata": {},
   "source": [
    "on supprime la variable \"height_left\" qui est la moins significative (p_value=0.454)"
   ]
  },
  {
   "cell_type": "code",
   "execution_count": 16,
   "id": "d670b3ba",
   "metadata": {},
   "outputs": [
    {
     "name": "stdout",
     "output_type": "stream",
     "text": [
      "                            OLS Regression Results                            \n",
      "==============================================================================\n",
      "Dep. Variable:             margin_low   R-squared:                       0.617\n",
      "Model:                            OLS   Adj. R-squared:                  0.616\n",
      "Method:                 Least Squares   F-statistic:                     1174.\n",
      "Date:                Wed, 04 May 2022   Prob (F-statistic):          1.24e-304\n",
      "Time:                        21:41:33   Log-Likelihood:                -774.73\n",
      "No. Observations:                1463   AIC:                             1555.\n",
      "Df Residuals:                    1460   BIC:                             1571.\n",
      "Df Model:                           2                                         \n",
      "Covariance Type:            nonrobust                                         \n",
      "======================================================================================\n",
      "                         coef    std err          t      P>|t|      [0.025      0.975]\n",
      "--------------------------------------------------------------------------------------\n",
      "Intercept              5.9263      0.198     30.003      0.000       5.539       6.314\n",
      "is_genuine[T.True]    -1.1632      0.029    -40.477      0.000      -1.220      -1.107\n",
      "margin_up             -0.2119      0.059     -3.612      0.000      -0.327      -0.097\n",
      "==============================================================================\n",
      "Omnibus:                       22.365   Durbin-Watson:                   2.041\n",
      "Prob(Omnibus):                  0.000   Jarque-Bera (JB):               39.106\n",
      "Skew:                           0.057   Prob(JB):                     3.22e-09\n",
      "Kurtosis:                       3.793   Cond. No.                         65.0\n",
      "==============================================================================\n",
      "\n",
      "Notes:\n",
      "[1] Standard Errors assume that the covariance matrix of the errors is correctly specified.\n"
     ]
    }
   ],
   "source": [
    "# Instanciation:\n",
    "reg_linb = smf.ols(\"margin_low ~ margin_up + is_genuine\", data = df_reg_lin_train)\n",
    "\n",
    "# Calculs:\n",
    "res_lin = reg_linb.fit()\n",
    "print(res_lin.summary())"
   ]
  },
  {
   "cell_type": "markdown",
   "id": "bbb9a7b2",
   "metadata": {},
   "source": [
    "Nous avons maintenant un coefficient de determination R2 satisfaisant qui vaut 0,61. les variables sont aussi significatives."
   ]
  },
  {
   "cell_type": "markdown",
   "id": "28c2eb4d",
   "metadata": {},
   "source": [
    "### Recherche de colinéarité entre les variables"
   ]
  },
  {
   "cell_type": "markdown",
   "id": "de89f8f7",
   "metadata": {},
   "source": [
    "Nous utilisons le Facteur d'Inflation de la Variance (VIF) pour detecter les colinéarités:\n",
    "- En pratique, une valeur VIF>10 indique un problème de colinéarité éventuel."
   ]
  },
  {
   "cell_type": "code",
   "execution_count": 17,
   "id": "6393c3bb",
   "metadata": {},
   "outputs": [
    {
     "data": {
      "text/plain": [
       "[4.725732131263019,\n",
       " 1.028199497908067,\n",
       " 1.1737111515376184,\n",
       " 1.3208356332473397,\n",
       " 1.5960903251807712,\n",
       " 3.6132551150015404]"
      ]
     },
     "execution_count": 17,
     "metadata": {},
     "output_type": "execute_result"
    }
   ],
   "source": [
    "from statsmodels.stats.outliers_influence import variance_inflation_factor\n",
    "\n",
    "# Instanciation:\n",
    "reg_linb = smf.ols(\"margin_low ~ diagonal + height_left + height_right + margin_up + length + is_genuine\", \n",
    "                   data = df_reg_lin_train)\n",
    "# Calculs:\n",
    "res_lin = reg_linb.fit()\n",
    "\n",
    "variables = res_lin.model.exog\n",
    "[variance_inflation_factor(variables, i) for i in np.arange(1,variables.shape[1])]"
   ]
  },
  {
   "cell_type": "markdown",
   "id": "000d7a47",
   "metadata": {},
   "source": [
    "Ici, tous les coefficients sont inférieurs à 10, il n'y a donc pas de problème de colinéarité."
   ]
  },
  {
   "cell_type": "markdown",
   "id": "1269a420",
   "metadata": {},
   "source": [
    "### Verification de l'Homoscédasticité"
   ]
  },
  {
   "cell_type": "markdown",
   "id": "405de8bc",
   "metadata": {},
   "source": [
    "Nous utilisons le test statistique de Breusch-Pagan.\n",
    "- H0 (hypothèse nulle) : homoscédasticité.\n",
    "- Ha (hypothèse alternative) : hétéroscédasticité.\n",
    "\n",
    "Si la p-value associée à un test d’hétéroscédasticité se trouve en-dessous d’un certain seuil (exemple : 0.05), on pourra dire que les données s’écartent significativement de l’homoscédasticité."
   ]
  },
  {
   "cell_type": "code",
   "execution_count": 18,
   "id": "d0c10493",
   "metadata": {},
   "outputs": [
    {
     "name": "stdout",
     "output_type": "stream",
     "text": [
      "p value test Breusch Pagan: 3.463957971603552e-33\n"
     ]
    }
   ],
   "source": [
    "from statsmodels.stats.api import  het_breuschpagan\n",
    "\n",
    "lagrande, pval, f, fpval = het_breuschpagan(res_lin.resid, res_lin.model.exog)\n",
    "print('p value test Breusch Pagan:', pval)"
   ]
  },
  {
   "cell_type": "markdown",
   "id": "a8437982",
   "metadata": {},
   "source": [
    "La p-valeur ici est inférieure à 5%, on rejette l'hypothèse H0 selon laquelle les variances sont constantes (l'hypothèse d’homoscédasticité)."
   ]
  },
  {
   "cell_type": "markdown",
   "id": "eef84a8c",
   "metadata": {},
   "source": [
    "### Normalité des résidus"
   ]
  },
  {
   "cell_type": "markdown",
   "id": "32634a41",
   "metadata": {},
   "source": [
    "Les résidus doivent être répartis selon la loi normale. On peut utiliser le test de Shapiro-Wilk\n",
    "- Si p-value > 0.05 <-> Normalité."
   ]
  },
  {
   "cell_type": "code",
   "execution_count": 19,
   "id": "a665b085",
   "metadata": {},
   "outputs": [
    {
     "data": {
      "image/png": "[encoded data removed]",
      "text/plain": [
       "<Figure size 432x288 with 1 Axes>"
      ]
     },
     "metadata": {
      "needs_background": "light"
     },
     "output_type": "display_data"
    }
   ],
   "source": [
    "import statsmodels.api as sm\n",
    "import scipy.stats as stats\n",
    "\n",
    "\n",
    "fig = sm.qqplot(res_lin.resid, stats.t, fit=True,line='45')\n",
    "plt.title(\"QQ plot\")\n",
    "plt.show()"
   ]
  },
  {
   "cell_type": "code",
   "execution_count": 20,
   "id": "2fb53caa",
   "metadata": {},
   "outputs": [
    {
     "name": "stdout",
     "output_type": "stream",
     "text": [
      "7.047739472909598e-06\n"
     ]
    }
   ],
   "source": [
    "from scipy.stats import shapiro\n",
    "\n",
    "x, pval = shapiro(res_lin.resid) ; print(pval)"
   ]
  },
  {
   "cell_type": "markdown",
   "id": "d524bad3",
   "metadata": {},
   "source": [
    "Ici, l'hypothèse de normalité est remise en cause (p-value = 7.04e-06 < 0.05)."
   ]
  },
  {
   "cell_type": "markdown",
   "id": "aeb20dd1",
   "metadata": {},
   "source": [
    "#### Application du modèle "
   ]
  },
  {
   "cell_type": "code",
   "execution_count": 21,
   "id": "162b6e69",
   "metadata": {},
   "outputs": [
    {
     "data": {
      "text/plain": [
       "array([4.06495361, 4.11199026, 4.13400328, 3.99357074, 4.1403993 ,\n",
       "       4.09428392, 4.07412432, 4.12538999, 4.0807278 , 4.07363322,\n",
       "       4.11897255, 4.18037978, 4.13648423, 4.05106842, 4.17837685,\n",
       "       4.22555104, 4.11586845, 4.10284101, 4.08184346, 4.09276238,\n",
       "       4.11250192, 4.15717623, 4.16028787, 4.12193808, 4.12353555,\n",
       "       4.19842271, 4.10962313, 4.09696025, 4.13384101, 5.25968515,\n",
       "       5.264817  , 5.28251853, 5.30206887, 5.20035843, 5.1754678 ,\n",
       "       5.17345045, 5.24675055])"
      ]
     },
     "execution_count": 21,
     "metadata": {},
     "output_type": "execute_result"
    }
   ],
   "source": [
    "# Application du modele sur les donnees test\n",
    "df_test = df_reg_lin_test.drop(['margin_low'], axis=1)\n",
    "\n",
    "# Prediction des valeurs manquantes sur le dataset de test\n",
    "y_pred = model.predict(df_test)\n",
    "y_pred"
   ]
  },
  {
   "cell_type": "code",
   "execution_count": 22,
   "id": "4380260e",
   "metadata": {},
   "outputs": [
    {
     "name": "stdout",
     "output_type": "stream",
     "text": [
      "<class 'pandas.core.frame.DataFrame'>\n",
      "Int64Index: 1500 entries, 72 to 1499\n",
      "Data columns (total 7 columns):\n",
      " #   Column        Non-Null Count  Dtype  \n",
      "---  ------        --------------  -----  \n",
      " 0   is_genuine    1500 non-null   bool   \n",
      " 1   diagonal      1500 non-null   float64\n",
      " 2   height_left   1500 non-null   float64\n",
      " 3   height_right  1500 non-null   float64\n",
      " 4   margin_low    1500 non-null   float64\n",
      " 5   margin_up     1500 non-null   float64\n",
      " 6   length        1500 non-null   float64\n",
      "dtypes: bool(1), float64(6)\n",
      "memory usage: 83.5 KB\n"
     ]
    },
    {
     "name": "stderr",
     "output_type": "stream",
     "text": [
      "C:\\Users\\p092279\\Anaconda3\\lib\\site-packages\\pandas\\core\\indexing.py:1676: SettingWithCopyWarning: \n",
      "A value is trying to be set on a copy of a slice from a DataFrame.\n",
      "Try using .loc[row_indexer,col_indexer] = value instead\n",
      "\n",
      "See the caveats in the documentation: https://pandas.pydata.org/pandas-docs/stable/user_guide/indexing.html#returning-a-view-versus-a-copy\n",
      "  self._setitem_single_column(ilocs[0], value, pi)\n"
     ]
    }
   ],
   "source": [
    "#On ajoute les résultats de la régression pour les valeurs manquantes dans le df_reg_lin_test\n",
    "df_reg_lin_test.loc[df_reg_lin_test.margin_low.isnull(), 'margin_low'] = y_pred\n",
    "df_billet = pd.concat([df_reg_lin_test, df_reg_lin_train] ,axis = 0)\n",
    "df_billet = df_billet.drop([\"margin_low_pred\"], axis=1)\n",
    "df_billet.info()"
   ]
  },
  {
   "cell_type": "code",
   "execution_count": 23,
   "id": "436555ae",
   "metadata": {},
   "outputs": [
    {
     "data": {
      "text/html": [
       "<div>\n",
       "<style scoped>\n",
       "    .dataframe tbody tr th:only-of-type {\n",
       "        vertical-align: middle;\n",
       "    }\n",
       "\n",
       "    .dataframe tbody tr th {\n",
       "        vertical-align: top;\n",
       "    }\n",
       "\n",
       "    .dataframe thead th {\n",
       "        text-align: right;\n",
       "    }\n",
       "</style>\n",
       "<table border=\"1\" class=\"dataframe\">\n",
       "  <thead>\n",
       "    <tr style=\"text-align: right;\">\n",
       "      <th></th>\n",
       "      <th>is_genuine</th>\n",
       "      <th>diagonal</th>\n",
       "      <th>height_left</th>\n",
       "      <th>height_right</th>\n",
       "      <th>margin_low</th>\n",
       "      <th>margin_up</th>\n",
       "      <th>length</th>\n",
       "    </tr>\n",
       "  </thead>\n",
       "  <tbody>\n",
       "    <tr>\n",
       "      <th>72</th>\n",
       "      <td>True</td>\n",
       "      <td>171.94</td>\n",
       "      <td>103.89</td>\n",
       "      <td>103.45</td>\n",
       "      <td>4.064954</td>\n",
       "      <td>3.25</td>\n",
       "      <td>112.79</td>\n",
       "    </tr>\n",
       "    <tr>\n",
       "      <th>99</th>\n",
       "      <td>True</td>\n",
       "      <td>171.93</td>\n",
       "      <td>104.07</td>\n",
       "      <td>104.18</td>\n",
       "      <td>4.111990</td>\n",
       "      <td>3.14</td>\n",
       "      <td>113.08</td>\n",
       "    </tr>\n",
       "    <tr>\n",
       "      <th>151</th>\n",
       "      <td>True</td>\n",
       "      <td>172.07</td>\n",
       "      <td>103.80</td>\n",
       "      <td>104.38</td>\n",
       "      <td>4.134003</td>\n",
       "      <td>3.02</td>\n",
       "      <td>112.93</td>\n",
       "    </tr>\n",
       "    <tr>\n",
       "      <th>197</th>\n",
       "      <td>True</td>\n",
       "      <td>171.45</td>\n",
       "      <td>103.66</td>\n",
       "      <td>103.80</td>\n",
       "      <td>3.993571</td>\n",
       "      <td>3.62</td>\n",
       "      <td>113.27</td>\n",
       "    </tr>\n",
       "    <tr>\n",
       "      <th>241</th>\n",
       "      <td>True</td>\n",
       "      <td>171.83</td>\n",
       "      <td>104.14</td>\n",
       "      <td>104.06</td>\n",
       "      <td>4.140399</td>\n",
       "      <td>3.02</td>\n",
       "      <td>112.36</td>\n",
       "    </tr>\n",
       "    <tr>\n",
       "      <th>...</th>\n",
       "      <td>...</td>\n",
       "      <td>...</td>\n",
       "      <td>...</td>\n",
       "      <td>...</td>\n",
       "      <td>...</td>\n",
       "      <td>...</td>\n",
       "      <td>...</td>\n",
       "    </tr>\n",
       "    <tr>\n",
       "      <th>1495</th>\n",
       "      <td>False</td>\n",
       "      <td>171.75</td>\n",
       "      <td>104.38</td>\n",
       "      <td>104.17</td>\n",
       "      <td>4.420000</td>\n",
       "      <td>3.09</td>\n",
       "      <td>111.28</td>\n",
       "    </tr>\n",
       "    <tr>\n",
       "      <th>1496</th>\n",
       "      <td>False</td>\n",
       "      <td>172.19</td>\n",
       "      <td>104.63</td>\n",
       "      <td>104.44</td>\n",
       "      <td>5.270000</td>\n",
       "      <td>3.37</td>\n",
       "      <td>110.97</td>\n",
       "    </tr>\n",
       "    <tr>\n",
       "      <th>1497</th>\n",
       "      <td>False</td>\n",
       "      <td>171.80</td>\n",
       "      <td>104.01</td>\n",
       "      <td>104.12</td>\n",
       "      <td>5.510000</td>\n",
       "      <td>3.36</td>\n",
       "      <td>111.95</td>\n",
       "    </tr>\n",
       "    <tr>\n",
       "      <th>1498</th>\n",
       "      <td>False</td>\n",
       "      <td>172.06</td>\n",
       "      <td>104.28</td>\n",
       "      <td>104.06</td>\n",
       "      <td>5.170000</td>\n",
       "      <td>3.46</td>\n",
       "      <td>112.25</td>\n",
       "    </tr>\n",
       "    <tr>\n",
       "      <th>1499</th>\n",
       "      <td>False</td>\n",
       "      <td>171.47</td>\n",
       "      <td>104.15</td>\n",
       "      <td>103.82</td>\n",
       "      <td>4.630000</td>\n",
       "      <td>3.37</td>\n",
       "      <td>112.07</td>\n",
       "    </tr>\n",
       "  </tbody>\n",
       "</table>\n",
       "<p>1500 rows × 7 columns</p>\n",
       "</div>"
      ],
      "text/plain": [
       "      is_genuine  diagonal  height_left  height_right  margin_low  margin_up  \\\n",
       "72          True    171.94       103.89        103.45    4.064954       3.25   \n",
       "99          True    171.93       104.07        104.18    4.111990       3.14   \n",
       "151         True    172.07       103.80        104.38    4.134003       3.02   \n",
       "197         True    171.45       103.66        103.80    3.993571       3.62   \n",
       "241         True    171.83       104.14        104.06    4.140399       3.02   \n",
       "...          ...       ...          ...           ...         ...        ...   \n",
       "1495       False    171.75       104.38        104.17    4.420000       3.09   \n",
       "1496       False    172.19       104.63        104.44    5.270000       3.37   \n",
       "1497       False    171.80       104.01        104.12    5.510000       3.36   \n",
       "1498       False    172.06       104.28        104.06    5.170000       3.46   \n",
       "1499       False    171.47       104.15        103.82    4.630000       3.37   \n",
       "\n",
       "      length  \n",
       "72    112.79  \n",
       "99    113.08  \n",
       "151   112.93  \n",
       "197   113.27  \n",
       "241   112.36  \n",
       "...      ...  \n",
       "1495  111.28  \n",
       "1496  110.97  \n",
       "1497  111.95  \n",
       "1498  112.25  \n",
       "1499  112.07  \n",
       "\n",
       "[1500 rows x 7 columns]"
      ]
     },
     "execution_count": 23,
     "metadata": {},
     "output_type": "execute_result"
    }
   ],
   "source": [
    "df_billet"
   ]
  },
  {
   "cell_type": "code",
   "execution_count": 24,
   "id": "9f6f954a",
   "metadata": {},
   "outputs": [
    {
     "data": {
      "text/html": [
       "<div>\n",
       "<style scoped>\n",
       "    .dataframe tbody tr th:only-of-type {\n",
       "        vertical-align: middle;\n",
       "    }\n",
       "\n",
       "    .dataframe tbody tr th {\n",
       "        vertical-align: top;\n",
       "    }\n",
       "\n",
       "    .dataframe thead th {\n",
       "        text-align: right;\n",
       "    }\n",
       "</style>\n",
       "<table border=\"1\" class=\"dataframe\">\n",
       "  <thead>\n",
       "    <tr style=\"text-align: right;\">\n",
       "      <th></th>\n",
       "      <th>diagonal</th>\n",
       "      <th>height_left</th>\n",
       "      <th>height_right</th>\n",
       "      <th>margin_low</th>\n",
       "      <th>margin_up</th>\n",
       "      <th>length</th>\n",
       "    </tr>\n",
       "  </thead>\n",
       "  <tbody>\n",
       "    <tr>\n",
       "      <th>count</th>\n",
       "      <td>1500.000000</td>\n",
       "      <td>1500.000000</td>\n",
       "      <td>1500.000000</td>\n",
       "      <td>1500.000000</td>\n",
       "      <td>1500.000000</td>\n",
       "      <td>1500.00000</td>\n",
       "    </tr>\n",
       "    <tr>\n",
       "      <th>mean</th>\n",
       "      <td>171.958440</td>\n",
       "      <td>104.029533</td>\n",
       "      <td>103.920307</td>\n",
       "      <td>4.482844</td>\n",
       "      <td>3.151473</td>\n",
       "      <td>112.67850</td>\n",
       "    </tr>\n",
       "    <tr>\n",
       "      <th>std</th>\n",
       "      <td>0.305195</td>\n",
       "      <td>0.299462</td>\n",
       "      <td>0.325627</td>\n",
       "      <td>0.659899</td>\n",
       "      <td>0.231813</td>\n",
       "      <td>0.87273</td>\n",
       "    </tr>\n",
       "    <tr>\n",
       "      <th>min</th>\n",
       "      <td>171.040000</td>\n",
       "      <td>103.140000</td>\n",
       "      <td>102.820000</td>\n",
       "      <td>2.980000</td>\n",
       "      <td>2.270000</td>\n",
       "      <td>109.49000</td>\n",
       "    </tr>\n",
       "    <tr>\n",
       "      <th>25%</th>\n",
       "      <td>171.750000</td>\n",
       "      <td>103.820000</td>\n",
       "      <td>103.710000</td>\n",
       "      <td>4.027500</td>\n",
       "      <td>2.990000</td>\n",
       "      <td>112.03000</td>\n",
       "    </tr>\n",
       "    <tr>\n",
       "      <th>50%</th>\n",
       "      <td>171.960000</td>\n",
       "      <td>104.040000</td>\n",
       "      <td>103.920000</td>\n",
       "      <td>4.310000</td>\n",
       "      <td>3.140000</td>\n",
       "      <td>112.96000</td>\n",
       "    </tr>\n",
       "    <tr>\n",
       "      <th>75%</th>\n",
       "      <td>172.170000</td>\n",
       "      <td>104.230000</td>\n",
       "      <td>104.150000</td>\n",
       "      <td>4.870000</td>\n",
       "      <td>3.310000</td>\n",
       "      <td>113.34000</td>\n",
       "    </tr>\n",
       "    <tr>\n",
       "      <th>max</th>\n",
       "      <td>173.010000</td>\n",
       "      <td>104.880000</td>\n",
       "      <td>104.950000</td>\n",
       "      <td>6.900000</td>\n",
       "      <td>3.910000</td>\n",
       "      <td>114.44000</td>\n",
       "    </tr>\n",
       "  </tbody>\n",
       "</table>\n",
       "</div>"
      ],
      "text/plain": [
       "          diagonal  height_left  height_right   margin_low    margin_up  \\\n",
       "count  1500.000000  1500.000000   1500.000000  1500.000000  1500.000000   \n",
       "mean    171.958440   104.029533    103.920307     4.482844     3.151473   \n",
       "std       0.305195     0.299462      0.325627     0.659899     0.231813   \n",
       "min     171.040000   103.140000    102.820000     2.980000     2.270000   \n",
       "25%     171.750000   103.820000    103.710000     4.027500     2.990000   \n",
       "50%     171.960000   104.040000    103.920000     4.310000     3.140000   \n",
       "75%     172.170000   104.230000    104.150000     4.870000     3.310000   \n",
       "max     173.010000   104.880000    104.950000     6.900000     3.910000   \n",
       "\n",
       "           length  \n",
       "count  1500.00000  \n",
       "mean    112.67850  \n",
       "std       0.87273  \n",
       "min     109.49000  \n",
       "25%     112.03000  \n",
       "50%     112.96000  \n",
       "75%     113.34000  \n",
       "max     114.44000  "
      ]
     },
     "execution_count": 24,
     "metadata": {},
     "output_type": "execute_result"
    }
   ],
   "source": [
    "# Voir les statistiques de chaque colonne du tableau\n",
    "df_billet.describe()"
   ]
  },
  {
   "cell_type": "code",
   "execution_count": 25,
   "id": "2286d4d1",
   "metadata": {},
   "outputs": [
    {
     "name": "stdout",
     "output_type": "stream",
     "text": [
      "is_genuine               False        True \n",
      "diagonal     count  500.000000  1000.000000\n",
      "             mean   171.901160   171.987080\n",
      "             std      0.306861     0.300441\n",
      "             min    171.040000   171.040000\n",
      "             25%    171.690000   171.790000\n",
      "             50%    171.910000   171.990000\n",
      "             75%    172.092500   172.200000\n",
      "             max    173.010000   172.920000\n",
      "height_left  count  500.000000  1000.000000\n",
      "             mean   104.190340   103.949130\n",
      "             std      0.223758     0.300231\n",
      "             min    103.510000   103.140000\n",
      "             25%    104.040000   103.740000\n",
      "             50%    104.180000   103.950000\n",
      "             75%    104.332500   104.140000\n",
      "             max    104.880000   104.860000\n",
      "height_right count  500.000000  1000.000000\n",
      "             mean   104.143620   103.808650\n",
      "             std      0.270878     0.291570\n",
      "             min    103.430000   102.820000\n",
      "             25%    103.950000   103.610000\n",
      "             50%    104.160000   103.810000\n",
      "             75%    104.320000   104.000000\n",
      "             max    104.950000   104.950000\n",
      "margin_low   count  500.000000  1000.000000\n",
      "             mean     5.216290     4.116122\n",
      "             std      0.549114     0.314556\n",
      "             min      3.820000     2.980000\n",
      "             25%      4.840000     3.910000\n",
      "             50%      5.195000     4.110995\n",
      "             75%      5.590000     4.330000\n",
      "             max      6.900000     5.040000\n",
      "margin_up    count  500.000000  1000.000000\n",
      "             mean     3.350160     3.052130\n",
      "             std      0.180498     0.186340\n",
      "             min      2.920000     2.270000\n",
      "             25%      3.220000     2.930000\n",
      "             50%      3.350000     3.050000\n",
      "             75%      3.472500     3.180000\n",
      "             max      3.910000     3.740000\n",
      "length       count  500.000000  1000.000000\n",
      "             mean   111.630640   113.202430\n",
      "             std      0.615543     0.359552\n",
      "             min    109.490000   111.760000\n",
      "             25%    111.200000   112.950000\n",
      "             50%    111.630000   113.205000\n",
      "             75%    112.030000   113.460000\n",
      "             max    113.850000   114.440000\n"
     ]
    }
   ],
   "source": [
    "# Description des donnés\n",
    "description = df_billet.groupby('is_genuine').describe().T\n",
    "print(description)"
   ]
  },
  {
   "cell_type": "markdown",
   "id": "4864efbc",
   "metadata": {},
   "source": [
    "Notre échantillon contient 1500 billets : 1000 vrais billets et 500 faux.\n",
    "\n",
    "Portrait-robot du vrai billet :\n",
    "- Hauteur mesurée à gauche : 103.94 mm.\n",
    "- Hauteur mesurée à droite : 103.80 mm.\n",
    "- Marge entre le bord supérieur et le bord de l'image : 4.11 mm.\n",
    "- Marge entre le bord inférieur et le bord de l'image : 3.05mm.\n",
    "- Longueur : 113.20 mm.\n",
    "- Diagonale : 171.98 mm.\n",
    "\n",
    "Portrait-robot du faux billet :\n",
    "- Hauteur mesurée à gauche : 104.19 mm.\n",
    "- Hauteur mesurée à droite : 104.14 mm.\n",
    "- Marge entre le bord supérieur et le bord de l'image : 5.21 mm.\n",
    "- Marge entre le bord inférieur et le bord de l'image : 3.35mm.\n",
    "- Longueur : 111.63 mm.\n",
    "- Diagonale : 171.90 mm."
   ]
  },
  {
   "cell_type": "code",
   "execution_count": 26,
   "id": "241834e1",
   "metadata": {},
   "outputs": [
    {
     "data": {
      "image/png": "[encoded data removed]",
      "text/plain": [
       "<Figure size 432x288 with 1 Axes>"
      ]
     },
     "metadata": {
      "needs_background": "light"
     },
     "output_type": "display_data"
    }
   ],
   "source": [
    "plt.figure(figsize=(6,4))\n",
    "sns.countplot(data=df_billet, x='is_genuine')\n",
    "plt.title('Nombre de billets vrais et faux')\n",
    "plt.show()"
   ]
  },
  {
   "cell_type": "markdown",
   "id": "14391770",
   "metadata": {},
   "source": [
    "### On cherche à voir des caractéristiques des billets selon le fait qu'ils soient vrais ou faux."
   ]
  },
  {
   "cell_type": "code",
   "execution_count": 27,
   "id": "acc7deb4",
   "metadata": {},
   "outputs": [
    {
     "name": "stderr",
     "output_type": "stream",
     "text": [
      "C:\\Users\\p092279\\Anaconda3\\lib\\site-packages\\seaborn\\distributions.py:2557: FutureWarning: `distplot` is a deprecated function and will be removed in a future version. Please adapt your code to use either `displot` (a figure-level function with similar flexibility) or `histplot` (an axes-level function for histograms).\n",
      "  warnings.warn(msg, FutureWarning)\n",
      "C:\\Users\\p092279\\Anaconda3\\lib\\site-packages\\seaborn\\distributions.py:2557: FutureWarning: `distplot` is a deprecated function and will be removed in a future version. Please adapt your code to use either `displot` (a figure-level function with similar flexibility) or `histplot` (an axes-level function for histograms).\n",
      "  warnings.warn(msg, FutureWarning)\n",
      "C:\\Users\\p092279\\Anaconda3\\lib\\site-packages\\seaborn\\distributions.py:2557: FutureWarning: `distplot` is a deprecated function and will be removed in a future version. Please adapt your code to use either `displot` (a figure-level function with similar flexibility) or `histplot` (an axes-level function for histograms).\n",
      "  warnings.warn(msg, FutureWarning)\n",
      "C:\\Users\\p092279\\Anaconda3\\lib\\site-packages\\seaborn\\distributions.py:2557: FutureWarning: `distplot` is a deprecated function and will be removed in a future version. Please adapt your code to use either `displot` (a figure-level function with similar flexibility) or `histplot` (an axes-level function for histograms).\n",
      "  warnings.warn(msg, FutureWarning)\n",
      "C:\\Users\\p092279\\Anaconda3\\lib\\site-packages\\seaborn\\distributions.py:2557: FutureWarning: `distplot` is a deprecated function and will be removed in a future version. Please adapt your code to use either `displot` (a figure-level function with similar flexibility) or `histplot` (an axes-level function for histograms).\n",
      "  warnings.warn(msg, FutureWarning)\n",
      "C:\\Users\\p092279\\Anaconda3\\lib\\site-packages\\seaborn\\distributions.py:2557: FutureWarning: `distplot` is a deprecated function and will be removed in a future version. Please adapt your code to use either `displot` (a figure-level function with similar flexibility) or `histplot` (an axes-level function for histograms).\n",
      "  warnings.warn(msg, FutureWarning)\n",
      "C:\\Users\\p092279\\Anaconda3\\lib\\site-packages\\seaborn\\distributions.py:2557: FutureWarning: `distplot` is a deprecated function and will be removed in a future version. Please adapt your code to use either `displot` (a figure-level function with similar flexibility) or `histplot` (an axes-level function for histograms).\n",
      "  warnings.warn(msg, FutureWarning)\n",
      "C:\\Users\\p092279\\Anaconda3\\lib\\site-packages\\seaborn\\distributions.py:2557: FutureWarning: `distplot` is a deprecated function and will be removed in a future version. Please adapt your code to use either `displot` (a figure-level function with similar flexibility) or `histplot` (an axes-level function for histograms).\n",
      "  warnings.warn(msg, FutureWarning)\n",
      "C:\\Users\\p092279\\Anaconda3\\lib\\site-packages\\seaborn\\distributions.py:2557: FutureWarning: `distplot` is a deprecated function and will be removed in a future version. Please adapt your code to use either `displot` (a figure-level function with similar flexibility) or `histplot` (an axes-level function for histograms).\n",
      "  warnings.warn(msg, FutureWarning)\n",
      "C:\\Users\\p092279\\Anaconda3\\lib\\site-packages\\seaborn\\distributions.py:2557: FutureWarning: `distplot` is a deprecated function and will be removed in a future version. Please adapt your code to use either `displot` (a figure-level function with similar flexibility) or `histplot` (an axes-level function for histograms).\n",
      "  warnings.warn(msg, FutureWarning)\n",
      "C:\\Users\\p092279\\Anaconda3\\lib\\site-packages\\seaborn\\distributions.py:2557: FutureWarning: `distplot` is a deprecated function and will be removed in a future version. Please adapt your code to use either `displot` (a figure-level function with similar flexibility) or `histplot` (an axes-level function for histograms).\n",
      "  warnings.warn(msg, FutureWarning)\n",
      "C:\\Users\\p092279\\Anaconda3\\lib\\site-packages\\seaborn\\distributions.py:2557: FutureWarning: `distplot` is a deprecated function and will be removed in a future version. Please adapt your code to use either `displot` (a figure-level function with similar flexibility) or `histplot` (an axes-level function for histograms).\n",
      "  warnings.warn(msg, FutureWarning)\n"
     ]
    },
    {
     "data": {
      "text/plain": [
       "<matplotlib.legend.Legend at 0x20c1bb02340>"
      ]
     },
     "execution_count": 27,
     "metadata": {},
     "output_type": "execute_result"
    },
    {
     "data": {
      "image/png": "[encoded data removed]",
      "text/plain": [
       "<Figure size 1080x1080 with 6 Axes>"
      ]
     },
     "metadata": {
      "needs_background": "light"
     },
     "output_type": "display_data"
    }
   ],
   "source": [
    "billet_vrai = df_billet[df_billet['is_genuine'] == True]\n",
    "billet_faux = df_billet[df_billet['is_genuine'] == False]\n",
    "\n",
    "plt.figure(figsize=(15,15))\n",
    "plt.subplot(3,2,1)\n",
    "sns.distplot(billet_vrai['diagonal'],label='True')\n",
    "plt.axvline(x = np.mean(billet_vrai['diagonal']),label='mean_True')\n",
    "sns.distplot(billet_faux['diagonal'],label='False')\n",
    "plt.axvline(x = np.mean(billet_faux['diagonal']),label='mean_False',color='orange')\n",
    "plt.legend()\n",
    "\n",
    "plt.subplot(3,2,2)\n",
    "sns.distplot(billet_vrai['height_left'],label='True')\n",
    "plt.axvline(x = np.mean(billet_vrai['height_left']),label='mean_True')\n",
    "sns.distplot(billet_faux['height_left'],label='False')\n",
    "plt.axvline(x = np.mean(billet_faux['height_left']),label='mean_False',color='orange')\n",
    "plt.legend()\n",
    "\n",
    "plt.subplot(3,2,3)\n",
    "sns.distplot(billet_vrai['height_right'],label='True')\n",
    "plt.axvline(x = np.mean(billet_vrai['height_right']),label='mean_True')\n",
    "sns.distplot(billet_faux['height_right'],label='False')\n",
    "plt.axvline(x = np.mean(billet_faux['height_right']),label='mean_False',color='orange')\n",
    "plt.legend()\n",
    "\n",
    "plt.subplot(3,2,4)\n",
    "sns.distplot(billet_vrai['margin_low'],label='True')\n",
    "plt.axvline(x = np.mean(billet_vrai['margin_low']),label='mean_True')\n",
    "sns.distplot(billet_faux['margin_low'],label='False')\n",
    "plt.axvline(x = np.mean(billet_faux['margin_low']),label='mean_False',color='orange')\n",
    "plt.legend()\n",
    "\n",
    "plt.subplot(3,2,5)\n",
    "sns.distplot(billet_vrai['margin_up'],label='True')\n",
    "plt.axvline(x = np.mean(billet_vrai['margin_up']),label='mean_True')\n",
    "sns.distplot(billet_faux['margin_up'],label='False')\n",
    "plt.axvline(x = np.mean(billet_faux['margin_up']),label='mean_False',color='orange')\n",
    "plt.legend()\n",
    "\n",
    "plt.subplot(3,2,6)\n",
    "sns.distplot(billet_vrai['length'],label='True')\n",
    "plt.axvline(x = np.mean(billet_vrai['length']),label='mean_True')\n",
    "sns.distplot(billet_faux['length'],label='False')\n",
    "plt.axvline(x = np.mean(billet_faux['length']),label='mean_False',color='orange')\n",
    "plt.legend()"
   ]
  },
  {
   "cell_type": "markdown",
   "id": "68b50bc5",
   "metadata": {},
   "source": [
    "Des différences apparaissent particulièrement pour les variables suivantes :\n",
    "- Margin_low\n",
    "- length\n",
    "\n",
    "Les vrais billets ont tendance à être plus long que les faux billets"
   ]
  },
  {
   "cell_type": "markdown",
   "id": "0df39260",
   "metadata": {},
   "source": [
    "### Test statistique: Test student"
   ]
  },
  {
   "cell_type": "markdown",
   "id": "54d6a8f4",
   "metadata": {},
   "source": [
    "On cherche à voir si les billets vrais et faux ont des hauteurs gauche et droite, marge basse et haute et des longueurs significativement différentes\n",
    "\n",
    "- H0 : Les caractéristiques moyennes sont EGALES chez les billets vrais comme faux si p-value > 5%\n",
    "- H1 : Les caractéristiques moyennes ne sont EGALES chez les billets vrais comme faux si p-value < 5%"
   ]
  },
  {
   "cell_type": "code",
   "execution_count": 28,
   "id": "6080a81f",
   "metadata": {},
   "outputs": [],
   "source": [
    "from scipy.stats import ttest_ind\n",
    "\n",
    "#echantillonner df billet_vrai et billet_faux de manière à avoir le même nombre d'individus dans chacun d'eux.\n",
    "balanced_vrai = billet_vrai.sample(billet_faux.shape[0])\n",
    "\n",
    "def t_test(col) :\n",
    "    alpha = 0.05\n",
    "    stat, p = ttest_ind(balanced_vrai[col].dropna(), billet_faux[col].dropna())\n",
    "    if p < alpha:\n",
    "        return p, \"H0 rejetée\"\n",
    "    else :\n",
    "        return \"0\""
   ]
  },
  {
   "cell_type": "code",
   "execution_count": 29,
   "id": "f0bf6be9",
   "metadata": {},
   "outputs": [
    {
     "name": "stdout",
     "output_type": "stream",
     "text": [
      "diagonal\n",
      "p_value (2.7564023569807675e-07, 'H0 rejetée')\n",
      "_______\n",
      "\n",
      "height_left\n",
      "p_value (1.8142005032454352e-37, 'H0 rejetée')\n",
      "_______\n",
      "\n",
      "height_right\n",
      "p_value (3.884568643222029e-69, 'H0 rejetée')\n",
      "_______\n",
      "\n",
      "margin_low\n",
      "p_value (1.3309860553309572e-197, 'H0 rejetée')\n",
      "_______\n",
      "\n",
      "margin_up\n",
      "p_value (6.937591181185626e-119, 'H0 rejetée')\n",
      "_______\n",
      "\n",
      "length\n",
      "p_value (1.0123109265876628e-271, 'H0 rejetée')\n",
      "_______\n",
      "\n"
     ]
    }
   ],
   "source": [
    " for col in df_billet.columns[1:]:\n",
    "    print(col)\n",
    "    print('p_value', t_test(col))\n",
    "    print(\"_______\")\n",
    "    print()"
   ]
  },
  {
   "cell_type": "markdown",
   "id": "4c26760d",
   "metadata": {},
   "source": [
    "Tous les p_value sont < 5%, on peut donc considerer qu'il a une différence entre les vrais billets et les faux billets selon les variables de dimensions qui les caractérisent."
   ]
  },
  {
   "cell_type": "markdown",
   "id": "76d0d97c",
   "metadata": {},
   "source": [
    "### Matrice de corrélation "
   ]
  },
  {
   "cell_type": "code",
   "execution_count": 30,
   "id": "e8501ee0",
   "metadata": {},
   "outputs": [
    {
     "data": {
      "text/html": [
       "<div>\n",
       "<style scoped>\n",
       "    .dataframe tbody tr th:only-of-type {\n",
       "        vertical-align: middle;\n",
       "    }\n",
       "\n",
       "    .dataframe tbody tr th {\n",
       "        vertical-align: top;\n",
       "    }\n",
       "\n",
       "    .dataframe thead th {\n",
       "        text-align: right;\n",
       "    }\n",
       "</style>\n",
       "<table border=\"1\" class=\"dataframe\">\n",
       "  <thead>\n",
       "    <tr style=\"text-align: right;\">\n",
       "      <th></th>\n",
       "      <th>is_genuine</th>\n",
       "      <th>diagonal</th>\n",
       "      <th>height_left</th>\n",
       "      <th>height_right</th>\n",
       "      <th>margin_low</th>\n",
       "      <th>margin_up</th>\n",
       "      <th>length</th>\n",
       "    </tr>\n",
       "  </thead>\n",
       "  <tbody>\n",
       "    <tr>\n",
       "      <th>is_genuine</th>\n",
       "      <td>1.000000</td>\n",
       "      <td>0.132756</td>\n",
       "      <td>-0.379833</td>\n",
       "      <td>-0.485092</td>\n",
       "      <td>-0.786177</td>\n",
       "      <td>-0.606262</td>\n",
       "      <td>0.849285</td>\n",
       "    </tr>\n",
       "    <tr>\n",
       "      <th>diagonal</th>\n",
       "      <td>0.132756</td>\n",
       "      <td>1.000000</td>\n",
       "      <td>0.019472</td>\n",
       "      <td>-0.024492</td>\n",
       "      <td>-0.110639</td>\n",
       "      <td>-0.055649</td>\n",
       "      <td>0.097587</td>\n",
       "    </tr>\n",
       "    <tr>\n",
       "      <th>height_left</th>\n",
       "      <td>-0.379833</td>\n",
       "      <td>0.019472</td>\n",
       "      <td>1.000000</td>\n",
       "      <td>0.242279</td>\n",
       "      <td>0.308724</td>\n",
       "      <td>0.246522</td>\n",
       "      <td>-0.320863</td>\n",
       "    </tr>\n",
       "    <tr>\n",
       "      <th>height_right</th>\n",
       "      <td>-0.485092</td>\n",
       "      <td>-0.024492</td>\n",
       "      <td>0.242279</td>\n",
       "      <td>1.000000</td>\n",
       "      <td>0.390948</td>\n",
       "      <td>0.307005</td>\n",
       "      <td>-0.401751</td>\n",
       "    </tr>\n",
       "    <tr>\n",
       "      <th>margin_low</th>\n",
       "      <td>-0.786177</td>\n",
       "      <td>-0.110639</td>\n",
       "      <td>0.308724</td>\n",
       "      <td>0.390948</td>\n",
       "      <td>1.000000</td>\n",
       "      <td>0.429600</td>\n",
       "      <td>-0.668445</td>\n",
       "    </tr>\n",
       "    <tr>\n",
       "      <th>margin_up</th>\n",
       "      <td>-0.606262</td>\n",
       "      <td>-0.055649</td>\n",
       "      <td>0.246522</td>\n",
       "      <td>0.307005</td>\n",
       "      <td>0.429600</td>\n",
       "      <td>1.000000</td>\n",
       "      <td>-0.520575</td>\n",
       "    </tr>\n",
       "    <tr>\n",
       "      <th>length</th>\n",
       "      <td>0.849285</td>\n",
       "      <td>0.097587</td>\n",
       "      <td>-0.320863</td>\n",
       "      <td>-0.401751</td>\n",
       "      <td>-0.668445</td>\n",
       "      <td>-0.520575</td>\n",
       "      <td>1.000000</td>\n",
       "    </tr>\n",
       "  </tbody>\n",
       "</table>\n",
       "</div>"
      ],
      "text/plain": [
       "              is_genuine  diagonal  height_left  height_right  margin_low  \\\n",
       "is_genuine      1.000000  0.132756    -0.379833     -0.485092   -0.786177   \n",
       "diagonal        0.132756  1.000000     0.019472     -0.024492   -0.110639   \n",
       "height_left    -0.379833  0.019472     1.000000      0.242279    0.308724   \n",
       "height_right   -0.485092 -0.024492     0.242279      1.000000    0.390948   \n",
       "margin_low     -0.786177 -0.110639     0.308724      0.390948    1.000000   \n",
       "margin_up      -0.606262 -0.055649     0.246522      0.307005    0.429600   \n",
       "length          0.849285  0.097587    -0.320863     -0.401751   -0.668445   \n",
       "\n",
       "              margin_up    length  \n",
       "is_genuine    -0.606262  0.849285  \n",
       "diagonal      -0.055649  0.097587  \n",
       "height_left    0.246522 -0.320863  \n",
       "height_right   0.307005 -0.401751  \n",
       "margin_low     0.429600 -0.668445  \n",
       "margin_up      1.000000 -0.520575  \n",
       "length        -0.520575  1.000000  "
      ]
     },
     "execution_count": 30,
     "metadata": {},
     "output_type": "execute_result"
    }
   ],
   "source": [
    "#La matrice de correlation\n",
    "matrix = df_billet.corr()\n",
    "matrix"
   ]
  },
  {
   "cell_type": "markdown",
   "id": "1730136e",
   "metadata": {},
   "source": [
    "La matrice des corrélations résume les dépendances entre variables par une valeur entre -1 et 1 :\n",
    "\n",
    "- 0 : absence de corrélation\n",
    "- 1 : corrélation positive\n",
    "- -1 : corrélation négative"
   ]
  },
  {
   "cell_type": "code",
   "execution_count": 31,
   "id": "30d464f3",
   "metadata": {},
   "outputs": [
    {
     "name": "stderr",
     "output_type": "stream",
     "text": [
      "<ipython-input-31-78fd11bc07b0>:1: DeprecationWarning: `np.bool` is a deprecated alias for the builtin `bool`. To silence this warning, use `bool` by itself. Doing this will not modify any behavior and is safe. If you specifically wanted the numpy scalar type, use `np.bool_` here.\n",
      "Deprecated in NumPy 1.20; for more details and guidance: https://numpy.org/devdocs/release/1.20.0-notes.html#deprecations\n",
      "  mask = np.triu(np.ones_like(matrix, dtype=np.bool))\n"
     ]
    },
    {
     "data": {
      "image/png": "[encoded data removed]",
      "text/plain": [
       "<Figure size 576x432 with 2 Axes>"
      ]
     },
     "metadata": {
      "needs_background": "light"
     },
     "output_type": "display_data"
    }
   ],
   "source": [
    "mask = np.triu(np.ones_like(matrix, dtype=np.bool))\n",
    "plt.figure(figsize=(8, 6))\n",
    "sns.heatmap(matrix, mask=mask, annot=True, cmap='BrBG')\n",
    "plt.title('Matrice des corrélations')\n",
    "plt.show()"
   ]
  },
  {
   "cell_type": "markdown",
   "id": "ea41eb60",
   "metadata": {},
   "source": [
    "La matrice de corrélation confirme l'impact de la longueur et de la marge basse sur l'authenticité. On dit donc que la véracité du billet est corrélée positivement à la longueur, et négativement à la marge basse. Les variables ont toutes des dépendances plus ou moins marquées avec les autres, à part dans une moindre mesure la diagonale."
   ]
  },
  {
   "cell_type": "markdown",
   "id": "eb742b14",
   "metadata": {},
   "source": [
    "## Partitionnement des données"
   ]
  },
  {
   "cell_type": "markdown",
   "id": "e3b196ed",
   "metadata": {},
   "source": [
    "L'objectif est de partager les données en groupes homogènes. Pour cela nous pouvons utiliser la méthode de classification Kmeans."
   ]
  },
  {
   "cell_type": "code",
   "execution_count": 32,
   "id": "8dd9b28d",
   "metadata": {},
   "outputs": [
    {
     "data": {
      "text/html": [
       "<div>\n",
       "<style scoped>\n",
       "    .dataframe tbody tr th:only-of-type {\n",
       "        vertical-align: middle;\n",
       "    }\n",
       "\n",
       "    .dataframe tbody tr th {\n",
       "        vertical-align: top;\n",
       "    }\n",
       "\n",
       "    .dataframe thead th {\n",
       "        text-align: right;\n",
       "    }\n",
       "</style>\n",
       "<table border=\"1\" class=\"dataframe\">\n",
       "  <thead>\n",
       "    <tr style=\"text-align: right;\">\n",
       "      <th></th>\n",
       "      <th>diagonal</th>\n",
       "      <th>height_left</th>\n",
       "      <th>height_right</th>\n",
       "      <th>margin_low</th>\n",
       "      <th>margin_up</th>\n",
       "      <th>length</th>\n",
       "    </tr>\n",
       "  </thead>\n",
       "  <tbody>\n",
       "    <tr>\n",
       "      <th>72</th>\n",
       "      <td>171.94</td>\n",
       "      <td>103.89</td>\n",
       "      <td>103.45</td>\n",
       "      <td>4.064954</td>\n",
       "      <td>3.25</td>\n",
       "      <td>112.79</td>\n",
       "    </tr>\n",
       "    <tr>\n",
       "      <th>99</th>\n",
       "      <td>171.93</td>\n",
       "      <td>104.07</td>\n",
       "      <td>104.18</td>\n",
       "      <td>4.111990</td>\n",
       "      <td>3.14</td>\n",
       "      <td>113.08</td>\n",
       "    </tr>\n",
       "    <tr>\n",
       "      <th>151</th>\n",
       "      <td>172.07</td>\n",
       "      <td>103.80</td>\n",
       "      <td>104.38</td>\n",
       "      <td>4.134003</td>\n",
       "      <td>3.02</td>\n",
       "      <td>112.93</td>\n",
       "    </tr>\n",
       "    <tr>\n",
       "      <th>197</th>\n",
       "      <td>171.45</td>\n",
       "      <td>103.66</td>\n",
       "      <td>103.80</td>\n",
       "      <td>3.993571</td>\n",
       "      <td>3.62</td>\n",
       "      <td>113.27</td>\n",
       "    </tr>\n",
       "    <tr>\n",
       "      <th>241</th>\n",
       "      <td>171.83</td>\n",
       "      <td>104.14</td>\n",
       "      <td>104.06</td>\n",
       "      <td>4.140399</td>\n",
       "      <td>3.02</td>\n",
       "      <td>112.36</td>\n",
       "    </tr>\n",
       "    <tr>\n",
       "      <th>...</th>\n",
       "      <td>...</td>\n",
       "      <td>...</td>\n",
       "      <td>...</td>\n",
       "      <td>...</td>\n",
       "      <td>...</td>\n",
       "      <td>...</td>\n",
       "    </tr>\n",
       "    <tr>\n",
       "      <th>1495</th>\n",
       "      <td>171.75</td>\n",
       "      <td>104.38</td>\n",
       "      <td>104.17</td>\n",
       "      <td>4.420000</td>\n",
       "      <td>3.09</td>\n",
       "      <td>111.28</td>\n",
       "    </tr>\n",
       "    <tr>\n",
       "      <th>1496</th>\n",
       "      <td>172.19</td>\n",
       "      <td>104.63</td>\n",
       "      <td>104.44</td>\n",
       "      <td>5.270000</td>\n",
       "      <td>3.37</td>\n",
       "      <td>110.97</td>\n",
       "    </tr>\n",
       "    <tr>\n",
       "      <th>1497</th>\n",
       "      <td>171.80</td>\n",
       "      <td>104.01</td>\n",
       "      <td>104.12</td>\n",
       "      <td>5.510000</td>\n",
       "      <td>3.36</td>\n",
       "      <td>111.95</td>\n",
       "    </tr>\n",
       "    <tr>\n",
       "      <th>1498</th>\n",
       "      <td>172.06</td>\n",
       "      <td>104.28</td>\n",
       "      <td>104.06</td>\n",
       "      <td>5.170000</td>\n",
       "      <td>3.46</td>\n",
       "      <td>112.25</td>\n",
       "    </tr>\n",
       "    <tr>\n",
       "      <th>1499</th>\n",
       "      <td>171.47</td>\n",
       "      <td>104.15</td>\n",
       "      <td>103.82</td>\n",
       "      <td>4.630000</td>\n",
       "      <td>3.37</td>\n",
       "      <td>112.07</td>\n",
       "    </tr>\n",
       "  </tbody>\n",
       "</table>\n",
       "<p>1500 rows × 6 columns</p>\n",
       "</div>"
      ],
      "text/plain": [
       "      diagonal  height_left  height_right  margin_low  margin_up  length\n",
       "72      171.94       103.89        103.45    4.064954       3.25  112.79\n",
       "99      171.93       104.07        104.18    4.111990       3.14  113.08\n",
       "151     172.07       103.80        104.38    4.134003       3.02  112.93\n",
       "197     171.45       103.66        103.80    3.993571       3.62  113.27\n",
       "241     171.83       104.14        104.06    4.140399       3.02  112.36\n",
       "...        ...          ...           ...         ...        ...     ...\n",
       "1495    171.75       104.38        104.17    4.420000       3.09  111.28\n",
       "1496    172.19       104.63        104.44    5.270000       3.37  110.97\n",
       "1497    171.80       104.01        104.12    5.510000       3.36  111.95\n",
       "1498    172.06       104.28        104.06    5.170000       3.46  112.25\n",
       "1499    171.47       104.15        103.82    4.630000       3.37  112.07\n",
       "\n",
       "[1500 rows x 6 columns]"
      ]
     },
     "execution_count": 32,
     "metadata": {},
     "output_type": "execute_result"
    }
   ],
   "source": [
    "df_kmeans = df_billet.drop(columns= ['is_genuine'])\n",
    "df_kmeans"
   ]
  },
  {
   "cell_type": "markdown",
   "id": "504115cf",
   "metadata": {},
   "source": [
    "### Méthode du coude :"
   ]
  },
  {
   "cell_type": "markdown",
   "id": "509b8462",
   "metadata": {},
   "source": [
    "Pour visualiser le nombre de clusters optimum, nous allons utiliser la methode du ' Elbow ' :"
   ]
  },
  {
   "cell_type": "code",
   "execution_count": 33,
   "id": "eddbd2c5",
   "metadata": {},
   "outputs": [
    {
     "data": {
      "image/png": "[encoded data removed]",
      "text/plain": [
       "<Figure size 432x288 with 1 Axes>"
      ]
     },
     "metadata": {
      "needs_background": "light"
     },
     "output_type": "display_data"
    }
   ],
   "source": [
    "#Using the elbow method to find the optimum number of clusters\n",
    "from sklearn.cluster import KMeans\n",
    "wcss = []\n",
    "mapping1 = {}\n",
    "for i in range(1,6):\n",
    "    km=KMeans(n_clusters=i)\n",
    "    km.fit(df_kmeans)\n",
    "    wcss.append(km.inertia_)\n",
    "    mapping1[i] = km.inertia_\n",
    "plt.plot(range(1,6),wcss)\n",
    "plt.title('Elbow Method')\n",
    "plt.xlabel('Nombre de Clusters')\n",
    "plt.ylabel('Inerties')\n",
    "plt.show()"
   ]
  },
  {
   "cell_type": "code",
   "execution_count": 34,
   "id": "98bbad92",
   "metadata": {},
   "outputs": [
    {
     "name": "stdout",
     "output_type": "stream",
     "text": [
      "1 : 2308.0345421793113\n",
      "2 : 969.534287515418\n",
      "3 : 860.1844608441519\n",
      "4 : 771.8461355340536\n",
      "5 : 709.7753732822134\n"
     ]
    }
   ],
   "source": [
    "for key,val in mapping1.items(): \n",
    "    print(str(key)+' : '+str(val))"
   ]
  },
  {
   "cell_type": "markdown",
   "id": "c99b7ed1",
   "metadata": {},
   "source": [
    "On définit 2 clusters avec la méthode du coude. On va pouvoir utiliser un algorithme du KMeans pour effectuer notre classification."
   ]
  },
  {
   "cell_type": "code",
   "execution_count": 35,
   "id": "77579566",
   "metadata": {},
   "outputs": [],
   "source": [
    "# Clustering par K-means: n_clusters = 2\n",
    "km = KMeans(n_clusters=2)\n",
    "km.fit(df_kmeans)\n",
    "clusters_km = km.labels_\n",
    "clusters_km = np.invert(clusters_km.astype('bool')) #inverser True & False to have same is_genuine"
   ]
  },
  {
   "cell_type": "code",
   "execution_count": 36,
   "id": "cc5843e7",
   "metadata": {},
   "outputs": [
    {
     "data": {
      "text/html": [
       "<div>\n",
       "<style scoped>\n",
       "    .dataframe tbody tr th:only-of-type {\n",
       "        vertical-align: middle;\n",
       "    }\n",
       "\n",
       "    .dataframe tbody tr th {\n",
       "        vertical-align: top;\n",
       "    }\n",
       "\n",
       "    .dataframe thead th {\n",
       "        text-align: right;\n",
       "    }\n",
       "</style>\n",
       "<table border=\"1\" class=\"dataframe\">\n",
       "  <thead>\n",
       "    <tr style=\"text-align: right;\">\n",
       "      <th></th>\n",
       "      <th>diagonal</th>\n",
       "      <th>height_left</th>\n",
       "      <th>height_right</th>\n",
       "      <th>margin_low</th>\n",
       "      <th>margin_up</th>\n",
       "      <th>length</th>\n",
       "      <th>Clusterkm</th>\n",
       "    </tr>\n",
       "  </thead>\n",
       "  <tbody>\n",
       "    <tr>\n",
       "      <th>72</th>\n",
       "      <td>171.94</td>\n",
       "      <td>103.89</td>\n",
       "      <td>103.45</td>\n",
       "      <td>4.064954</td>\n",
       "      <td>3.25</td>\n",
       "      <td>112.79</td>\n",
       "      <td>True</td>\n",
       "    </tr>\n",
       "    <tr>\n",
       "      <th>99</th>\n",
       "      <td>171.93</td>\n",
       "      <td>104.07</td>\n",
       "      <td>104.18</td>\n",
       "      <td>4.111990</td>\n",
       "      <td>3.14</td>\n",
       "      <td>113.08</td>\n",
       "      <td>True</td>\n",
       "    </tr>\n",
       "    <tr>\n",
       "      <th>151</th>\n",
       "      <td>172.07</td>\n",
       "      <td>103.80</td>\n",
       "      <td>104.38</td>\n",
       "      <td>4.134003</td>\n",
       "      <td>3.02</td>\n",
       "      <td>112.93</td>\n",
       "      <td>True</td>\n",
       "    </tr>\n",
       "    <tr>\n",
       "      <th>197</th>\n",
       "      <td>171.45</td>\n",
       "      <td>103.66</td>\n",
       "      <td>103.80</td>\n",
       "      <td>3.993571</td>\n",
       "      <td>3.62</td>\n",
       "      <td>113.27</td>\n",
       "      <td>True</td>\n",
       "    </tr>\n",
       "    <tr>\n",
       "      <th>241</th>\n",
       "      <td>171.83</td>\n",
       "      <td>104.14</td>\n",
       "      <td>104.06</td>\n",
       "      <td>4.140399</td>\n",
       "      <td>3.02</td>\n",
       "      <td>112.36</td>\n",
       "      <td>True</td>\n",
       "    </tr>\n",
       "    <tr>\n",
       "      <th>...</th>\n",
       "      <td>...</td>\n",
       "      <td>...</td>\n",
       "      <td>...</td>\n",
       "      <td>...</td>\n",
       "      <td>...</td>\n",
       "      <td>...</td>\n",
       "      <td>...</td>\n",
       "    </tr>\n",
       "    <tr>\n",
       "      <th>1495</th>\n",
       "      <td>171.75</td>\n",
       "      <td>104.38</td>\n",
       "      <td>104.17</td>\n",
       "      <td>4.420000</td>\n",
       "      <td>3.09</td>\n",
       "      <td>111.28</td>\n",
       "      <td>False</td>\n",
       "    </tr>\n",
       "    <tr>\n",
       "      <th>1496</th>\n",
       "      <td>172.19</td>\n",
       "      <td>104.63</td>\n",
       "      <td>104.44</td>\n",
       "      <td>5.270000</td>\n",
       "      <td>3.37</td>\n",
       "      <td>110.97</td>\n",
       "      <td>False</td>\n",
       "    </tr>\n",
       "    <tr>\n",
       "      <th>1497</th>\n",
       "      <td>171.80</td>\n",
       "      <td>104.01</td>\n",
       "      <td>104.12</td>\n",
       "      <td>5.510000</td>\n",
       "      <td>3.36</td>\n",
       "      <td>111.95</td>\n",
       "      <td>False</td>\n",
       "    </tr>\n",
       "    <tr>\n",
       "      <th>1498</th>\n",
       "      <td>172.06</td>\n",
       "      <td>104.28</td>\n",
       "      <td>104.06</td>\n",
       "      <td>5.170000</td>\n",
       "      <td>3.46</td>\n",
       "      <td>112.25</td>\n",
       "      <td>False</td>\n",
       "    </tr>\n",
       "    <tr>\n",
       "      <th>1499</th>\n",
       "      <td>171.47</td>\n",
       "      <td>104.15</td>\n",
       "      <td>103.82</td>\n",
       "      <td>4.630000</td>\n",
       "      <td>3.37</td>\n",
       "      <td>112.07</td>\n",
       "      <td>False</td>\n",
       "    </tr>\n",
       "  </tbody>\n",
       "</table>\n",
       "<p>1500 rows × 7 columns</p>\n",
       "</div>"
      ],
      "text/plain": [
       "      diagonal  height_left  height_right  margin_low  margin_up  length  \\\n",
       "72      171.94       103.89        103.45    4.064954       3.25  112.79   \n",
       "99      171.93       104.07        104.18    4.111990       3.14  113.08   \n",
       "151     172.07       103.80        104.38    4.134003       3.02  112.93   \n",
       "197     171.45       103.66        103.80    3.993571       3.62  113.27   \n",
       "241     171.83       104.14        104.06    4.140399       3.02  112.36   \n",
       "...        ...          ...           ...         ...        ...     ...   \n",
       "1495    171.75       104.38        104.17    4.420000       3.09  111.28   \n",
       "1496    172.19       104.63        104.44    5.270000       3.37  110.97   \n",
       "1497    171.80       104.01        104.12    5.510000       3.36  111.95   \n",
       "1498    172.06       104.28        104.06    5.170000       3.46  112.25   \n",
       "1499    171.47       104.15        103.82    4.630000       3.37  112.07   \n",
       "\n",
       "      Clusterkm  \n",
       "72         True  \n",
       "99         True  \n",
       "151        True  \n",
       "197        True  \n",
       "241        True  \n",
       "...         ...  \n",
       "1495      False  \n",
       "1496      False  \n",
       "1497      False  \n",
       "1498      False  \n",
       "1499      False  \n",
       "\n",
       "[1500 rows x 7 columns]"
      ]
     },
     "execution_count": 36,
     "metadata": {},
     "output_type": "execute_result"
    }
   ],
   "source": [
    "# Ajout d'une colonne contenant le cluster attribue:\n",
    "df_kmeans['Clusterkm'] = clusters_km\n",
    "df_kmeans"
   ]
  },
  {
   "cell_type": "code",
   "execution_count": 37,
   "id": "87602660",
   "metadata": {},
   "outputs": [
    {
     "data": {
      "text/html": [
       "<div>\n",
       "<style scoped>\n",
       "    .dataframe tbody tr th:only-of-type {\n",
       "        vertical-align: middle;\n",
       "    }\n",
       "\n",
       "    .dataframe tbody tr th {\n",
       "        vertical-align: top;\n",
       "    }\n",
       "\n",
       "    .dataframe thead th {\n",
       "        text-align: right;\n",
       "    }\n",
       "</style>\n",
       "<table border=\"1\" class=\"dataframe\">\n",
       "  <thead>\n",
       "    <tr style=\"text-align: right;\">\n",
       "      <th></th>\n",
       "      <th>diagonal</th>\n",
       "      <th>height_left</th>\n",
       "      <th>height_right</th>\n",
       "      <th>margin_low</th>\n",
       "      <th>margin_up</th>\n",
       "      <th>length</th>\n",
       "      <th>Clusterkm</th>\n",
       "      <th>is_genuine</th>\n",
       "    </tr>\n",
       "  </thead>\n",
       "  <tbody>\n",
       "    <tr>\n",
       "      <th>72</th>\n",
       "      <td>171.94</td>\n",
       "      <td>103.89</td>\n",
       "      <td>103.45</td>\n",
       "      <td>4.064954</td>\n",
       "      <td>3.25</td>\n",
       "      <td>112.79</td>\n",
       "      <td>True</td>\n",
       "      <td>True</td>\n",
       "    </tr>\n",
       "    <tr>\n",
       "      <th>99</th>\n",
       "      <td>171.93</td>\n",
       "      <td>104.07</td>\n",
       "      <td>104.18</td>\n",
       "      <td>4.111990</td>\n",
       "      <td>3.14</td>\n",
       "      <td>113.08</td>\n",
       "      <td>True</td>\n",
       "      <td>True</td>\n",
       "    </tr>\n",
       "    <tr>\n",
       "      <th>151</th>\n",
       "      <td>172.07</td>\n",
       "      <td>103.80</td>\n",
       "      <td>104.38</td>\n",
       "      <td>4.134003</td>\n",
       "      <td>3.02</td>\n",
       "      <td>112.93</td>\n",
       "      <td>True</td>\n",
       "      <td>True</td>\n",
       "    </tr>\n",
       "    <tr>\n",
       "      <th>197</th>\n",
       "      <td>171.45</td>\n",
       "      <td>103.66</td>\n",
       "      <td>103.80</td>\n",
       "      <td>3.993571</td>\n",
       "      <td>3.62</td>\n",
       "      <td>113.27</td>\n",
       "      <td>True</td>\n",
       "      <td>True</td>\n",
       "    </tr>\n",
       "    <tr>\n",
       "      <th>241</th>\n",
       "      <td>171.83</td>\n",
       "      <td>104.14</td>\n",
       "      <td>104.06</td>\n",
       "      <td>4.140399</td>\n",
       "      <td>3.02</td>\n",
       "      <td>112.36</td>\n",
       "      <td>True</td>\n",
       "      <td>True</td>\n",
       "    </tr>\n",
       "    <tr>\n",
       "      <th>...</th>\n",
       "      <td>...</td>\n",
       "      <td>...</td>\n",
       "      <td>...</td>\n",
       "      <td>...</td>\n",
       "      <td>...</td>\n",
       "      <td>...</td>\n",
       "      <td>...</td>\n",
       "      <td>...</td>\n",
       "    </tr>\n",
       "    <tr>\n",
       "      <th>1495</th>\n",
       "      <td>171.75</td>\n",
       "      <td>104.38</td>\n",
       "      <td>104.17</td>\n",
       "      <td>4.420000</td>\n",
       "      <td>3.09</td>\n",
       "      <td>111.28</td>\n",
       "      <td>False</td>\n",
       "      <td>False</td>\n",
       "    </tr>\n",
       "    <tr>\n",
       "      <th>1496</th>\n",
       "      <td>172.19</td>\n",
       "      <td>104.63</td>\n",
       "      <td>104.44</td>\n",
       "      <td>5.270000</td>\n",
       "      <td>3.37</td>\n",
       "      <td>110.97</td>\n",
       "      <td>False</td>\n",
       "      <td>False</td>\n",
       "    </tr>\n",
       "    <tr>\n",
       "      <th>1497</th>\n",
       "      <td>171.80</td>\n",
       "      <td>104.01</td>\n",
       "      <td>104.12</td>\n",
       "      <td>5.510000</td>\n",
       "      <td>3.36</td>\n",
       "      <td>111.95</td>\n",
       "      <td>False</td>\n",
       "      <td>False</td>\n",
       "    </tr>\n",
       "    <tr>\n",
       "      <th>1498</th>\n",
       "      <td>172.06</td>\n",
       "      <td>104.28</td>\n",
       "      <td>104.06</td>\n",
       "      <td>5.170000</td>\n",
       "      <td>3.46</td>\n",
       "      <td>112.25</td>\n",
       "      <td>False</td>\n",
       "      <td>False</td>\n",
       "    </tr>\n",
       "    <tr>\n",
       "      <th>1499</th>\n",
       "      <td>171.47</td>\n",
       "      <td>104.15</td>\n",
       "      <td>103.82</td>\n",
       "      <td>4.630000</td>\n",
       "      <td>3.37</td>\n",
       "      <td>112.07</td>\n",
       "      <td>False</td>\n",
       "      <td>False</td>\n",
       "    </tr>\n",
       "  </tbody>\n",
       "</table>\n",
       "<p>1500 rows × 8 columns</p>\n",
       "</div>"
      ],
      "text/plain": [
       "      diagonal  height_left  height_right  margin_low  margin_up  length  \\\n",
       "72      171.94       103.89        103.45    4.064954       3.25  112.79   \n",
       "99      171.93       104.07        104.18    4.111990       3.14  113.08   \n",
       "151     172.07       103.80        104.38    4.134003       3.02  112.93   \n",
       "197     171.45       103.66        103.80    3.993571       3.62  113.27   \n",
       "241     171.83       104.14        104.06    4.140399       3.02  112.36   \n",
       "...        ...          ...           ...         ...        ...     ...   \n",
       "1495    171.75       104.38        104.17    4.420000       3.09  111.28   \n",
       "1496    172.19       104.63        104.44    5.270000       3.37  110.97   \n",
       "1497    171.80       104.01        104.12    5.510000       3.36  111.95   \n",
       "1498    172.06       104.28        104.06    5.170000       3.46  112.25   \n",
       "1499    171.47       104.15        103.82    4.630000       3.37  112.07   \n",
       "\n",
       "      Clusterkm  is_genuine  \n",
       "72         True        True  \n",
       "99         True        True  \n",
       "151        True        True  \n",
       "197        True        True  \n",
       "241        True        True  \n",
       "...         ...         ...  \n",
       "1495      False       False  \n",
       "1496      False       False  \n",
       "1497      False       False  \n",
       "1498      False       False  \n",
       "1499      False       False  \n",
       "\n",
       "[1500 rows x 8 columns]"
      ]
     },
     "execution_count": 37,
     "metadata": {},
     "output_type": "execute_result"
    }
   ],
   "source": [
    "df_kmeans['is_genuine'] = df_billet['is_genuine']\n",
    "df_kmeans"
   ]
  },
  {
   "cell_type": "code",
   "execution_count": 38,
   "id": "037f4587",
   "metadata": {},
   "outputs": [
    {
     "data": {
      "text/plain": [
       "array([[-0.65058539, -0.01491949, -0.00348188],\n",
       "       [ 1.36986613,  0.03141433,  0.00733141]])"
      ]
     },
     "execution_count": 38,
     "metadata": {},
     "output_type": "execute_result"
    }
   ],
   "source": [
    "from sklearn import decomposition, preprocessing\n",
    "from sklearn.preprocessing import StandardScaler\n",
    "from sklearn.decomposition import PCA\n",
    "\n",
    "centroids_km = km.cluster_centers_\n",
    "\n",
    "# Clustering par projection des individus sur le premier plan factoriel:\n",
    "pca_km = decomposition.PCA(n_components=3).fit(df_kmeans[[\"diagonal\",\"height_left\",\"height_right\",\"margin_low\",\"margin_up\",\"length\"]])\n",
    "acp_km = PCA(n_components=3).fit_transform(df_kmeans[[\"diagonal\",\"height_left\",\"height_right\",\"margin_low\",\"margin_up\",\"length\"]])\n",
    "\n",
    "centroids_km_projected = pca_km.transform(centroids_km)\n",
    "centroids_km_projected"
   ]
  },
  {
   "cell_type": "code",
   "execution_count": 39,
   "id": "00469006",
   "metadata": {},
   "outputs": [
    {
     "data": {
      "image/png": "[encoded data removed]",
      "text/plain": [
       "<Figure size 432x288 with 1 Axes>"
      ]
     },
     "metadata": {
      "needs_background": "light"
     },
     "output_type": "display_data"
    }
   ],
   "source": [
    "# Graphique:\n",
    "for couleur,k in zip([\"#3182bd\",\"#dbe9f3\"],[0,1]):\n",
    "    plt.scatter(acp_km[km.labels_==k,0],acp_km[km.labels_==k,1],c=couleur,edgecolors=\"#D3D3D3\",label=\"Cluster {}\".format(k))\n",
    "    plt.legend()\n",
    "    plt.scatter(centroids_km_projected[:,0],centroids_km_projected[:,1],color=\"grey\",label=\"Centroïdes\")\n",
    "plt.title(\"Projection des individus et des {} centroïdes sur le premier plan factoriel\".format(len(centroids_km)))\n",
    "plt.show()"
   ]
  },
  {
   "cell_type": "markdown",
   "id": "53aec924",
   "metadata": {},
   "source": [
    "### Verification de la classification avec la Matrice de confusion."
   ]
  },
  {
   "cell_type": "code",
   "execution_count": 40,
   "id": "3d859b11",
   "metadata": {},
   "outputs": [
    {
     "name": "stdout",
     "output_type": "stream",
     "text": [
      "is_genuine  False  True \n",
      "row_0                   \n",
      "False         481      2\n",
      "True           19    998\n"
     ]
    }
   ],
   "source": [
    "#Verification de la classification: Matrice de confusion:\n",
    "km_matrix = pd.crosstab(clusters_km,df_kmeans[\"is_genuine\"])\n",
    "print(km_matrix)"
   ]
  },
  {
   "cell_type": "code",
   "execution_count": 41,
   "id": "d2f1bb23",
   "metadata": {},
   "outputs": [
    {
     "data": {
      "text/plain": [
       "Text(0.5, 1.0, 'Matrice de confusion K-means\\n')"
      ]
     },
     "execution_count": 41,
     "metadata": {},
     "output_type": "execute_result"
    },
    {
     "data": {
      "image/png": "[encoded data removed]",
      "text/plain": [
       "<Figure size 432x288 with 2 Axes>"
      ]
     },
     "metadata": {
      "needs_background": "light"
     },
     "output_type": "display_data"
    }
   ],
   "source": [
    "# Graphique:\n",
    "sns.heatmap(km_matrix,\n",
    "            annot = True,\n",
    "            fmt = \".3g\", \n",
    "            cmap = sns.color_palette(\"mako\", as_cmap=True),\n",
    "            linecolor = \"white\",\n",
    "            linewidths = 0.3,\n",
    "            xticklabels = [\"Faux\",\"Vrai\"],\n",
    "            yticklabels=[\"False\",\"True\"]\n",
    "            )\n",
    "plt.xlabel(\"is_genuine\")\n",
    "plt.ylabel(\"Cluster\")\n",
    "plt.title(\"Matrice de confusion K-means\\n\")"
   ]
  },
  {
   "cell_type": "markdown",
   "id": "1e92f81b",
   "metadata": {},
   "source": [
    "Interprétation de la matrice de confusion :\n",
    "\n",
    "Parmi les 1000 vrais billets :\n",
    "- 998 ont été bien placés (vrais billets)\n",
    "- 2 ont été prédis comme étant faux alors qu'ils étaient vrai (faux négatifs)\n",
    "\n",
    "Parmi les 500 faux billets :\n",
    "- 481 sont biens placés (faux billets)\n",
    "- 19 sont prédis comme étant vrais alors qu'ils sont faux en réalité (faux positifs)"
   ]
  },
  {
   "cell_type": "code",
   "execution_count": 42,
   "id": "8d05985a",
   "metadata": {},
   "outputs": [
    {
     "name": "stdout",
     "output_type": "stream",
     "text": [
      "Le taux precision est 98.6 %\n",
      "Le taux erreur est de 1.4 %\n"
     ]
    }
   ],
   "source": [
    "vrai_negatif = km_matrix.loc[0,0]\n",
    "faux_negatif = km_matrix.loc[1,0]\n",
    "faux_positif = km_matrix.loc[0,1]\n",
    "vrai_positif = km_matrix.loc[1,1]\n",
    "\n",
    "# Calcul de la précision\n",
    "Taux_precision = (float (vrai_positif + vrai_negatif) / float(vrai_negatif + faux_positif + faux_negatif + vrai_positif))\n",
    "print('Le taux precision est', round((Taux_precision)*100,2), '%')\n",
    "\n",
    "Taux_erreur = (faux_positif + faux_negatif) / (vrai_negatif+faux_positif+faux_negatif+vrai_positif)\n",
    "print('Le taux erreur est de', round((Taux_erreur)*100,2), '%')"
   ]
  },
  {
   "cell_type": "markdown",
   "id": "1df4fc20",
   "metadata": {},
   "source": [
    "## Regression Logistique"
   ]
  },
  {
   "cell_type": "markdown",
   "id": "29f3ec83",
   "metadata": {},
   "source": [
    "L'objectif de la régression logistique est de créer un programme capable d'effectuer une prédiction sur un billet, c'est-à-dire de déterminer s'il s'agit d'un vrai ou d'un faux billet, de donner la probabilité que le billet soit vrai. Si cette probabilité est supérieure ou égale à 0.5, le billet sera considéré comme vrai. Dans le cas contraire, il sera considéré comme faux."
   ]
  },
  {
   "cell_type": "code",
   "execution_count": 43,
   "id": "9653345b",
   "metadata": {},
   "outputs": [
    {
     "data": {
      "text/html": [
       "<div>\n",
       "<style scoped>\n",
       "    .dataframe tbody tr th:only-of-type {\n",
       "        vertical-align: middle;\n",
       "    }\n",
       "\n",
       "    .dataframe tbody tr th {\n",
       "        vertical-align: top;\n",
       "    }\n",
       "\n",
       "    .dataframe thead th {\n",
       "        text-align: right;\n",
       "    }\n",
       "</style>\n",
       "<table border=\"1\" class=\"dataframe\">\n",
       "  <thead>\n",
       "    <tr style=\"text-align: right;\">\n",
       "      <th></th>\n",
       "      <th>is_genuine</th>\n",
       "      <th>diagonal</th>\n",
       "      <th>height_left</th>\n",
       "      <th>height_right</th>\n",
       "      <th>margin_low</th>\n",
       "      <th>margin_up</th>\n",
       "      <th>length</th>\n",
       "    </tr>\n",
       "  </thead>\n",
       "  <tbody>\n",
       "    <tr>\n",
       "      <th>72</th>\n",
       "      <td>True</td>\n",
       "      <td>171.94</td>\n",
       "      <td>103.89</td>\n",
       "      <td>103.45</td>\n",
       "      <td>4.064954</td>\n",
       "      <td>3.25</td>\n",
       "      <td>112.79</td>\n",
       "    </tr>\n",
       "    <tr>\n",
       "      <th>99</th>\n",
       "      <td>True</td>\n",
       "      <td>171.93</td>\n",
       "      <td>104.07</td>\n",
       "      <td>104.18</td>\n",
       "      <td>4.111990</td>\n",
       "      <td>3.14</td>\n",
       "      <td>113.08</td>\n",
       "    </tr>\n",
       "    <tr>\n",
       "      <th>151</th>\n",
       "      <td>True</td>\n",
       "      <td>172.07</td>\n",
       "      <td>103.80</td>\n",
       "      <td>104.38</td>\n",
       "      <td>4.134003</td>\n",
       "      <td>3.02</td>\n",
       "      <td>112.93</td>\n",
       "    </tr>\n",
       "    <tr>\n",
       "      <th>197</th>\n",
       "      <td>True</td>\n",
       "      <td>171.45</td>\n",
       "      <td>103.66</td>\n",
       "      <td>103.80</td>\n",
       "      <td>3.993571</td>\n",
       "      <td>3.62</td>\n",
       "      <td>113.27</td>\n",
       "    </tr>\n",
       "    <tr>\n",
       "      <th>241</th>\n",
       "      <td>True</td>\n",
       "      <td>171.83</td>\n",
       "      <td>104.14</td>\n",
       "      <td>104.06</td>\n",
       "      <td>4.140399</td>\n",
       "      <td>3.02</td>\n",
       "      <td>112.36</td>\n",
       "    </tr>\n",
       "    <tr>\n",
       "      <th>...</th>\n",
       "      <td>...</td>\n",
       "      <td>...</td>\n",
       "      <td>...</td>\n",
       "      <td>...</td>\n",
       "      <td>...</td>\n",
       "      <td>...</td>\n",
       "      <td>...</td>\n",
       "    </tr>\n",
       "    <tr>\n",
       "      <th>1495</th>\n",
       "      <td>False</td>\n",
       "      <td>171.75</td>\n",
       "      <td>104.38</td>\n",
       "      <td>104.17</td>\n",
       "      <td>4.420000</td>\n",
       "      <td>3.09</td>\n",
       "      <td>111.28</td>\n",
       "    </tr>\n",
       "    <tr>\n",
       "      <th>1496</th>\n",
       "      <td>False</td>\n",
       "      <td>172.19</td>\n",
       "      <td>104.63</td>\n",
       "      <td>104.44</td>\n",
       "      <td>5.270000</td>\n",
       "      <td>3.37</td>\n",
       "      <td>110.97</td>\n",
       "    </tr>\n",
       "    <tr>\n",
       "      <th>1497</th>\n",
       "      <td>False</td>\n",
       "      <td>171.80</td>\n",
       "      <td>104.01</td>\n",
       "      <td>104.12</td>\n",
       "      <td>5.510000</td>\n",
       "      <td>3.36</td>\n",
       "      <td>111.95</td>\n",
       "    </tr>\n",
       "    <tr>\n",
       "      <th>1498</th>\n",
       "      <td>False</td>\n",
       "      <td>172.06</td>\n",
       "      <td>104.28</td>\n",
       "      <td>104.06</td>\n",
       "      <td>5.170000</td>\n",
       "      <td>3.46</td>\n",
       "      <td>112.25</td>\n",
       "    </tr>\n",
       "    <tr>\n",
       "      <th>1499</th>\n",
       "      <td>False</td>\n",
       "      <td>171.47</td>\n",
       "      <td>104.15</td>\n",
       "      <td>103.82</td>\n",
       "      <td>4.630000</td>\n",
       "      <td>3.37</td>\n",
       "      <td>112.07</td>\n",
       "    </tr>\n",
       "  </tbody>\n",
       "</table>\n",
       "<p>1500 rows × 7 columns</p>\n",
       "</div>"
      ],
      "text/plain": [
       "      is_genuine  diagonal  height_left  height_right  margin_low  margin_up  \\\n",
       "72          True    171.94       103.89        103.45    4.064954       3.25   \n",
       "99          True    171.93       104.07        104.18    4.111990       3.14   \n",
       "151         True    172.07       103.80        104.38    4.134003       3.02   \n",
       "197         True    171.45       103.66        103.80    3.993571       3.62   \n",
       "241         True    171.83       104.14        104.06    4.140399       3.02   \n",
       "...          ...       ...          ...           ...         ...        ...   \n",
       "1495       False    171.75       104.38        104.17    4.420000       3.09   \n",
       "1496       False    172.19       104.63        104.44    5.270000       3.37   \n",
       "1497       False    171.80       104.01        104.12    5.510000       3.36   \n",
       "1498       False    172.06       104.28        104.06    5.170000       3.46   \n",
       "1499       False    171.47       104.15        103.82    4.630000       3.37   \n",
       "\n",
       "      length  \n",
       "72    112.79  \n",
       "99    113.08  \n",
       "151   112.93  \n",
       "197   113.27  \n",
       "241   112.36  \n",
       "...      ...  \n",
       "1495  111.28  \n",
       "1496  110.97  \n",
       "1497  111.95  \n",
       "1498  112.25  \n",
       "1499  112.07  \n",
       "\n",
       "[1500 rows x 7 columns]"
      ]
     },
     "execution_count": 43,
     "metadata": {},
     "output_type": "execute_result"
    }
   ],
   "source": [
    "df_reg_log = df_billet\n",
    "df_reg_log"
   ]
  },
  {
   "cell_type": "code",
   "execution_count": 44,
   "id": "1ce3acff",
   "metadata": {},
   "outputs": [
    {
     "data": {
      "text/plain": [
       "LogisticRegression()"
      ]
     },
     "execution_count": 44,
     "metadata": {},
     "output_type": "execute_result"
    }
   ],
   "source": [
    "from sklearn.linear_model import LogisticRegression\n",
    "from sklearn.model_selection import train_test_split\n",
    "\n",
    "# Variables explicatives\n",
    "X = df_reg_log.drop(['is_genuine'], axis=1)\n",
    "# Variable à expliquer\n",
    "y = df_reg_log['is_genuine']\n",
    "\n",
    "# Partition aléatoire du jeu de données en 80% pour créer le modèle, 20% pour tester le modèle\n",
    "X_train, X_test, y_train, y_test = train_test_split(X,y,test_size=0.20)\n",
    "\n",
    "# Régression logistique\n",
    "model = LogisticRegression()\n",
    "model.fit(X_train, y_train)"
   ]
  },
  {
   "cell_type": "code",
   "execution_count": 45,
   "id": "500ef08c",
   "metadata": {},
   "outputs": [
    {
     "data": {
      "text/plain": [
       "array([[8.58343347e-01, 1.41656653e-01],\n",
       "       [3.18918876e-02, 9.68108112e-01],\n",
       "       [3.30887391e-04, 9.99669113e-01],\n",
       "       [9.99828565e-01, 1.71435444e-04],\n",
       "       [9.27503692e-04, 9.99072496e-01],\n",
       "       [6.12568981e-03, 9.93874310e-01],\n",
       "       [9.99810181e-01, 1.89819179e-04],\n",
       "       [1.04476611e-02, 9.89552339e-01],\n",
       "       [9.97185051e-01, 2.81494886e-03],\n",
       "       [9.77733161e-01, 2.22668389e-02],\n",
       "       [4.45306261e-02, 9.55469374e-01],\n",
       "       [1.42293729e-03, 9.98577063e-01],\n",
       "       [9.93776423e-01, 6.22357702e-03],\n",
       "       [4.38164546e-03, 9.95618355e-01],\n",
       "       [6.45925953e-03, 9.93540740e-01],\n",
       "       [3.29288295e-03, 9.96707117e-01],\n",
       "       [8.26832111e-04, 9.99173168e-01],\n",
       "       [9.99983736e-01, 1.62644416e-05],\n",
       "       [9.93767881e-01, 6.23211912e-03],\n",
       "       [4.13012212e-02, 9.58698779e-01],\n",
       "       [2.59092165e-03, 9.97409078e-01],\n",
       "       [1.62559428e-04, 9.99837441e-01],\n",
       "       [1.70262166e-02, 9.82973783e-01],\n",
       "       [9.99978451e-01, 2.15489888e-05],\n",
       "       [9.19229424e-05, 9.99908077e-01],\n",
       "       [9.86257592e-01, 1.37424075e-02],\n",
       "       [8.61941995e-04, 9.99138058e-01],\n",
       "       [5.53204477e-03, 9.94467955e-01],\n",
       "       [3.01853622e-01, 6.98146378e-01],\n",
       "       [1.30295196e-03, 9.98697048e-01],\n",
       "       [3.03962171e-03, 9.96960378e-01],\n",
       "       [9.99507660e-01, 4.92340240e-04],\n",
       "       [9.97325261e-01, 2.67473884e-03],\n",
       "       [2.58053109e-03, 9.97419469e-01],\n",
       "       [4.89770710e-03, 9.95102293e-01],\n",
       "       [3.33554164e-02, 9.66644584e-01],\n",
       "       [5.46054561e-04, 9.99453945e-01],\n",
       "       [1.33774835e-02, 9.86622516e-01],\n",
       "       [3.00045707e-03, 9.96999543e-01],\n",
       "       [9.99004119e-01, 9.95881200e-04],\n",
       "       [2.10392776e-03, 9.97896072e-01],\n",
       "       [1.05801260e-02, 9.89419874e-01],\n",
       "       [6.99547330e-02, 9.30045267e-01],\n",
       "       [3.40058490e-03, 9.96599415e-01],\n",
       "       [2.92570780e-04, 9.99707429e-01],\n",
       "       [1.05411900e-04, 9.99894588e-01],\n",
       "       [3.04574950e-03, 9.96954250e-01],\n",
       "       [2.78105241e-04, 9.99721895e-01],\n",
       "       [2.50988177e-01, 7.49011823e-01],\n",
       "       [9.87706004e-01, 1.22939962e-02],\n",
       "       [7.15311913e-04, 9.99284688e-01],\n",
       "       [5.33835376e-02, 9.46616462e-01],\n",
       "       [5.40614397e-02, 9.45938560e-01],\n",
       "       [3.00314905e-03, 9.96996851e-01],\n",
       "       [8.84671860e-01, 1.15328140e-01],\n",
       "       [9.95475543e-01, 4.52445729e-03],\n",
       "       [1.00517724e-01, 8.99482276e-01],\n",
       "       [8.88102027e-04, 9.99111898e-01],\n",
       "       [8.15665816e-03, 9.91843342e-01],\n",
       "       [9.92156208e-01, 7.84379161e-03],\n",
       "       [9.98405557e-01, 1.59444304e-03],\n",
       "       [5.65062997e-03, 9.94349370e-01],\n",
       "       [3.33173994e-02, 9.66682601e-01],\n",
       "       [5.50341812e-03, 9.94496582e-01],\n",
       "       [9.99938957e-01, 6.10425704e-05],\n",
       "       [1.31921895e-01, 8.68078105e-01],\n",
       "       [9.99855509e-01, 1.44491392e-04],\n",
       "       [5.15698135e-01, 4.84301865e-01],\n",
       "       [3.04016248e-03, 9.96959838e-01],\n",
       "       [1.13484481e-03, 9.98865155e-01],\n",
       "       [8.85394400e-03, 9.91146056e-01],\n",
       "       [9.99635130e-01, 3.64870284e-04],\n",
       "       [8.34896325e-02, 9.16510368e-01],\n",
       "       [9.95861513e-01, 4.13848724e-03],\n",
       "       [2.37499155e-04, 9.99762501e-01],\n",
       "       [1.53600524e-03, 9.98463995e-01],\n",
       "       [2.59988403e-04, 9.99740012e-01],\n",
       "       [9.99874818e-01, 1.25182471e-04],\n",
       "       [2.48979259e-04, 9.99751021e-01],\n",
       "       [1.87854781e-03, 9.98121452e-01],\n",
       "       [7.90639010e-01, 2.09360990e-01],\n",
       "       [1.37291708e-03, 9.98627083e-01],\n",
       "       [2.56045984e-02, 9.74395402e-01],\n",
       "       [9.99656654e-01, 3.43346130e-04],\n",
       "       [2.91793369e-04, 9.99708207e-01],\n",
       "       [6.42342450e-03, 9.93576575e-01],\n",
       "       [2.23923661e-02, 9.77607634e-01],\n",
       "       [1.76134841e-02, 9.82386516e-01],\n",
       "       [3.87665758e-03, 9.96123342e-01],\n",
       "       [5.77606408e-04, 9.99422394e-01],\n",
       "       [9.46602425e-01, 5.33975747e-02],\n",
       "       [6.32112781e-04, 9.99367887e-01],\n",
       "       [1.85921684e-02, 9.81407832e-01],\n",
       "       [9.98801860e-01, 1.19814016e-03],\n",
       "       [9.99994520e-01, 5.48017514e-06],\n",
       "       [1.49903999e-03, 9.98500960e-01],\n",
       "       [9.99559039e-01, 4.40960883e-04],\n",
       "       [7.27672423e-03, 9.92723276e-01],\n",
       "       [1.39959182e-01, 8.60040818e-01],\n",
       "       [2.88221295e-03, 9.97117787e-01],\n",
       "       [9.85287512e-01, 1.47124883e-02],\n",
       "       [4.41165196e-02, 9.55883480e-01],\n",
       "       [2.70309230e-03, 9.97296908e-01],\n",
       "       [1.89038979e-01, 8.10961021e-01],\n",
       "       [6.33272687e-01, 3.66727313e-01],\n",
       "       [9.98318140e-01, 1.68186041e-03],\n",
       "       [9.98270528e-01, 1.72947210e-03],\n",
       "       [9.78952428e-01, 2.10475717e-02],\n",
       "       [1.12652611e-03, 9.98873474e-01],\n",
       "       [9.59476090e-03, 9.90405239e-01],\n",
       "       [1.28934114e-03, 9.98710659e-01],\n",
       "       [3.02960803e-03, 9.96970392e-01],\n",
       "       [9.84700537e-01, 1.52994628e-02],\n",
       "       [1.09376657e-03, 9.98906233e-01],\n",
       "       [9.99889830e-01, 1.10170004e-04],\n",
       "       [1.57074335e-02, 9.84292566e-01],\n",
       "       [8.62913535e-01, 1.37086465e-01],\n",
       "       [2.75350322e-03, 9.97246497e-01],\n",
       "       [8.45307396e-03, 9.91546926e-01],\n",
       "       [1.21781874e-03, 9.98782181e-01],\n",
       "       [1.06419271e-02, 9.89358073e-01],\n",
       "       [9.82084933e-01, 1.79150674e-02],\n",
       "       [9.78848278e-04, 9.99021152e-01],\n",
       "       [5.14448585e-03, 9.94855514e-01],\n",
       "       [3.71789310e-02, 9.62821069e-01],\n",
       "       [9.99393673e-01, 6.06326547e-04],\n",
       "       [1.14329122e-04, 9.99885671e-01],\n",
       "       [6.05182994e-04, 9.99394817e-01],\n",
       "       [1.09250760e-03, 9.98907492e-01],\n",
       "       [7.09216366e-03, 9.92907836e-01],\n",
       "       [2.45566862e-02, 9.75443314e-01],\n",
       "       [9.99916679e-01, 8.33208220e-05],\n",
       "       [9.99817558e-01, 1.82441936e-04],\n",
       "       [9.99876466e-01, 1.23534101e-04],\n",
       "       [9.99990419e-01, 9.58102188e-06],\n",
       "       [7.80603399e-03, 9.92193966e-01],\n",
       "       [2.94528028e-04, 9.99705472e-01],\n",
       "       [9.95555288e-01, 4.44471191e-03],\n",
       "       [3.34343321e-04, 9.99665657e-01],\n",
       "       [8.65907005e-04, 9.99134093e-01],\n",
       "       [2.83064899e-03, 9.97169351e-01],\n",
       "       [2.18531134e-02, 9.78146887e-01],\n",
       "       [1.41017764e-02, 9.85898224e-01],\n",
       "       [9.30936039e-01, 6.90639612e-02],\n",
       "       [9.99014568e-01, 9.85432360e-04],\n",
       "       [2.70025486e-03, 9.97299745e-01],\n",
       "       [4.97785839e-04, 9.99502214e-01],\n",
       "       [9.96515250e-01, 3.48474965e-03],\n",
       "       [6.07783012e-04, 9.99392217e-01],\n",
       "       [8.30183230e-01, 1.69816770e-01],\n",
       "       [2.62050840e-03, 9.97379492e-01],\n",
       "       [1.58854892e-03, 9.98411451e-01],\n",
       "       [7.40232789e-04, 9.99259767e-01],\n",
       "       [5.72706822e-02, 9.42729318e-01],\n",
       "       [1.75909272e-02, 9.82409073e-01],\n",
       "       [4.21170516e-04, 9.99578829e-01],\n",
       "       [9.99906068e-01, 9.39324458e-05],\n",
       "       [9.82608539e-01, 1.73914607e-02],\n",
       "       [2.55433065e-05, 9.99974457e-01],\n",
       "       [1.67453056e-02, 9.83254694e-01],\n",
       "       [9.87935229e-01, 1.20647705e-02],\n",
       "       [4.39744338e-02, 9.56025566e-01],\n",
       "       [1.67212050e-03, 9.98327879e-01],\n",
       "       [9.99997967e-01, 2.03283748e-06],\n",
       "       [1.63793792e-03, 9.98362062e-01],\n",
       "       [1.76101822e-01, 8.23898178e-01],\n",
       "       [9.99975777e-01, 2.42233837e-05],\n",
       "       [3.06631741e-03, 9.96933683e-01],\n",
       "       [1.02183049e-03, 9.98978170e-01],\n",
       "       [2.03415503e-02, 9.79658450e-01],\n",
       "       [9.96090573e-01, 3.90942687e-03],\n",
       "       [1.55119250e-02, 9.84488075e-01],\n",
       "       [3.13338938e-03, 9.96866611e-01],\n",
       "       [1.27684973e-02, 9.87231503e-01],\n",
       "       [8.43289567e-03, 9.91567104e-01],\n",
       "       [9.89083955e-01, 1.09160446e-02],\n",
       "       [3.76751931e-03, 9.96232481e-01],\n",
       "       [1.71564447e-01, 8.28435553e-01],\n",
       "       [3.22783827e-03, 9.96772162e-01],\n",
       "       [7.42528418e-04, 9.99257472e-01],\n",
       "       [1.19560893e-03, 9.98804391e-01],\n",
       "       [7.41941665e-03, 9.92580583e-01],\n",
       "       [2.89952317e-04, 9.99710048e-01],\n",
       "       [8.51450484e-03, 9.91485495e-01],\n",
       "       [4.87661208e-03, 9.95123388e-01],\n",
       "       [9.93866315e-01, 6.13368542e-03],\n",
       "       [9.99290995e-01, 7.09005423e-04],\n",
       "       [9.22125418e-04, 9.99077875e-01],\n",
       "       [7.06817115e-04, 9.99293183e-01],\n",
       "       [2.91285124e-02, 9.70871488e-01],\n",
       "       [9.99639596e-01, 3.60403941e-04],\n",
       "       [1.62068969e-04, 9.99837931e-01],\n",
       "       [5.54492686e-03, 9.94455073e-01],\n",
       "       [8.32614146e-01, 1.67385854e-01],\n",
       "       [9.67010119e-01, 3.29898811e-02],\n",
       "       [1.19258898e-02, 9.88074110e-01],\n",
       "       [8.72920328e-04, 9.99127080e-01],\n",
       "       [9.97620015e-01, 2.37998468e-03],\n",
       "       [7.55232778e-03, 9.92447672e-01],\n",
       "       [7.43040241e-01, 2.56959759e-01],\n",
       "       [9.99984180e-01, 1.58196528e-05],\n",
       "       [4.71591634e-03, 9.95284084e-01],\n",
       "       [7.21091304e-03, 9.92789087e-01],\n",
       "       [6.99156883e-03, 9.93008431e-01],\n",
       "       [5.02899721e-02, 9.49710028e-01],\n",
       "       [7.89434287e-04, 9.99210566e-01],\n",
       "       [4.81940885e-02, 9.51805912e-01],\n",
       "       [1.53289341e-02, 9.84671066e-01],\n",
       "       [8.33523302e-01, 1.66476698e-01],\n",
       "       [3.35895601e-04, 9.99664104e-01],\n",
       "       [3.00923881e-02, 9.69907612e-01],\n",
       "       [6.50318413e-02, 9.34968159e-01],\n",
       "       [4.32167664e-03, 9.95678323e-01],\n",
       "       [2.60404702e-02, 9.73959530e-01],\n",
       "       [7.05986399e-04, 9.99294014e-01],\n",
       "       [4.37240144e-04, 9.99562760e-01],\n",
       "       [6.17905853e-04, 9.99382094e-01],\n",
       "       [9.99303619e-01, 6.96381449e-04],\n",
       "       [9.99356295e-01, 6.43704647e-04],\n",
       "       [2.10617207e-01, 7.89382793e-01],\n",
       "       [9.99828785e-01, 1.71215256e-04],\n",
       "       [2.34302909e-03, 9.97656971e-01],\n",
       "       [1.12829908e-03, 9.98871701e-01],\n",
       "       [9.98993228e-01, 1.00677222e-03],\n",
       "       [9.96732624e-01, 3.26737641e-03],\n",
       "       [9.86530474e-01, 1.34695264e-02],\n",
       "       [7.68407461e-04, 9.99231593e-01],\n",
       "       [9.24807197e-03, 9.90751928e-01],\n",
       "       [9.27631090e-02, 9.07236891e-01],\n",
       "       [7.74020063e-01, 2.25979937e-01],\n",
       "       [1.36475461e-03, 9.98635245e-01],\n",
       "       [9.99939872e-01, 6.01282496e-05],\n",
       "       [1.42132810e-02, 9.85786719e-01],\n",
       "       [7.63597020e-03, 9.92364030e-01],\n",
       "       [1.42168735e-03, 9.98578313e-01],\n",
       "       [3.76248021e-03, 9.96237520e-01],\n",
       "       [4.13388265e-02, 9.58661173e-01],\n",
       "       [9.99934948e-01, 6.50523125e-05],\n",
       "       [6.93838566e-02, 9.30616143e-01],\n",
       "       [2.07632795e-03, 9.97923672e-01],\n",
       "       [8.28262918e-02, 9.17173708e-01],\n",
       "       [9.99997108e-01, 2.89237279e-06],\n",
       "       [9.95651093e-01, 4.34890709e-03],\n",
       "       [9.93131263e-01, 6.86873736e-03],\n",
       "       [1.61354157e-01, 8.38645843e-01],\n",
       "       [2.01978284e-02, 9.79802172e-01],\n",
       "       [9.99994126e-01, 5.87377314e-06],\n",
       "       [9.98814974e-01, 1.18502570e-03],\n",
       "       [8.08079828e-03, 9.91919202e-01],\n",
       "       [3.19534468e-04, 9.99680466e-01],\n",
       "       [1.83534833e-02, 9.81646517e-01],\n",
       "       [5.88965930e-03, 9.94110341e-01],\n",
       "       [9.99855804e-01, 1.44195696e-04],\n",
       "       [2.71055097e-03, 9.97289449e-01],\n",
       "       [7.36262764e-04, 9.99263737e-01],\n",
       "       [5.17284285e-02, 9.48271571e-01],\n",
       "       [9.63269048e-01, 3.67309520e-02],\n",
       "       [9.51070604e-01, 4.89293962e-02],\n",
       "       [9.64320501e-02, 9.03567950e-01],\n",
       "       [7.59443234e-02, 9.24055677e-01],\n",
       "       [9.90940720e-01, 9.05928045e-03],\n",
       "       [2.70813372e-03, 9.97291866e-01],\n",
       "       [2.71674538e-02, 9.72832546e-01],\n",
       "       [6.31156894e-03, 9.93688431e-01],\n",
       "       [1.96968784e-02, 9.80303122e-01],\n",
       "       [7.94505343e-02, 9.20549466e-01],\n",
       "       [9.99998624e-01, 1.37617226e-06],\n",
       "       [1.45893305e-03, 9.98541067e-01],\n",
       "       [1.94241561e-03, 9.98057584e-01],\n",
       "       [9.85545991e-03, 9.90144540e-01],\n",
       "       [9.99177850e-01, 8.22150490e-04],\n",
       "       [1.17774422e-04, 9.99882226e-01],\n",
       "       [6.75168185e-03, 9.93248318e-01],\n",
       "       [2.47986279e-03, 9.97520137e-01],\n",
       "       [6.04158041e-03, 9.93958420e-01],\n",
       "       [7.98971942e-04, 9.99201028e-01],\n",
       "       [9.94320236e-01, 5.67976418e-03],\n",
       "       [1.06361997e-02, 9.89363800e-01],\n",
       "       [4.62169704e-02, 9.53783030e-01],\n",
       "       [8.16341042e-03, 9.91836590e-01],\n",
       "       [9.99998146e-01, 1.85403007e-06],\n",
       "       [9.10814059e-03, 9.90891859e-01],\n",
       "       [8.32798481e-01, 1.67201519e-01],\n",
       "       [1.22834932e-03, 9.98771651e-01],\n",
       "       [9.99892515e-01, 1.07484697e-04],\n",
       "       [9.82072054e-01, 1.79279455e-02],\n",
       "       [5.81952707e-03, 9.94180473e-01],\n",
       "       [1.69365864e-01, 8.30634136e-01],\n",
       "       [9.99404109e-01, 5.95891152e-04],\n",
       "       [3.53842949e-02, 9.64615705e-01],\n",
       "       [2.67003056e-03, 9.97329969e-01],\n",
       "       [9.99663016e-01, 3.36984041e-04],\n",
       "       [1.61989684e-02, 9.83801032e-01],\n",
       "       [4.09787842e-03, 9.95902122e-01],\n",
       "       [9.12674126e-02, 9.08732587e-01],\n",
       "       [2.56483683e-02, 9.74351632e-01],\n",
       "       [5.99358835e-03, 9.94006412e-01],\n",
       "       [7.90557720e-01, 2.09442280e-01],\n",
       "       [2.50919216e-02, 9.74908078e-01],\n",
       "       [3.13862012e-02, 9.68613799e-01]])"
      ]
     },
     "execution_count": 45,
     "metadata": {},
     "output_type": "execute_result"
    }
   ],
   "source": [
    "y_predicted = model.predict(X_test)\n",
    "model.predict_proba(X_test)"
   ]
  },
  {
   "cell_type": "code",
   "execution_count": 46,
   "id": "dcb90750",
   "metadata": {},
   "outputs": [
    {
     "data": {
      "text/plain": [
       "0.991"
      ]
     },
     "execution_count": 46,
     "metadata": {},
     "output_type": "execute_result"
    }
   ],
   "source": [
    "from sklearn.metrics import accuracy_score\n",
    "df_reg_log['prediction']=model.predict(X)\n",
    "\n",
    "model_accuracy_score = round(accuracy_score(df_reg_log['is_genuine'],df_reg_log['prediction']),3)\n",
    "model_accuracy_score"
   ]
  },
  {
   "cell_type": "code",
   "execution_count": 47,
   "id": "5fce8139",
   "metadata": {},
   "outputs": [
    {
     "name": "stdout",
     "output_type": "stream",
     "text": [
      "Train_score 0.99\n",
      "Test_score 0.9933333333333333\n"
     ]
    }
   ],
   "source": [
    "print('Train_score', model.score(X_train,y_train))\n",
    "print('Test_score', model.score(X_test,y_test))"
   ]
  },
  {
   "cell_type": "code",
   "execution_count": 48,
   "id": "d25c9892",
   "metadata": {},
   "outputs": [
    {
     "data": {
      "text/html": [
       "<div>\n",
       "<style scoped>\n",
       "    .dataframe tbody tr th:only-of-type {\n",
       "        vertical-align: middle;\n",
       "    }\n",
       "\n",
       "    .dataframe tbody tr th {\n",
       "        vertical-align: top;\n",
       "    }\n",
       "\n",
       "    .dataframe thead th {\n",
       "        text-align: right;\n",
       "    }\n",
       "</style>\n",
       "<table border=\"1\" class=\"dataframe\">\n",
       "  <thead>\n",
       "    <tr style=\"text-align: right;\">\n",
       "      <th>is_genuine</th>\n",
       "      <th>False</th>\n",
       "      <th>True</th>\n",
       "    </tr>\n",
       "    <tr>\n",
       "      <th>prediction</th>\n",
       "      <th></th>\n",
       "      <th></th>\n",
       "    </tr>\n",
       "  </thead>\n",
       "  <tbody>\n",
       "    <tr>\n",
       "      <th>False</th>\n",
       "      <td>491</td>\n",
       "      <td>5</td>\n",
       "    </tr>\n",
       "    <tr>\n",
       "      <th>True</th>\n",
       "      <td>9</td>\n",
       "      <td>995</td>\n",
       "    </tr>\n",
       "  </tbody>\n",
       "</table>\n",
       "</div>"
      ],
      "text/plain": [
       "is_genuine  False  True \n",
       "prediction              \n",
       "False         491      5\n",
       "True            9    995"
      ]
     },
     "execution_count": 48,
     "metadata": {},
     "output_type": "execute_result"
    }
   ],
   "source": [
    "conf_mat = pd.crosstab(df_reg_log['prediction'],df_reg_log['is_genuine'])\n",
    "conf_mat"
   ]
  },
  {
   "cell_type": "code",
   "execution_count": 49,
   "id": "d7e4a4eb",
   "metadata": {},
   "outputs": [
    {
     "data": {
      "text/plain": [
       "Text(0.5, 1.0, 'Matrice de confusion')"
      ]
     },
     "execution_count": 49,
     "metadata": {},
     "output_type": "execute_result"
    },
    {
     "data": {
      "image/png": "[encoded data removed]",
      "text/plain": [
       "<Figure size 432x288 with 2 Axes>"
      ]
     },
     "metadata": {
      "needs_background": "light"
     },
     "output_type": "display_data"
    }
   ],
   "source": [
    "# Graphique:\n",
    "sns.heatmap(conf_mat,\n",
    "            annot = True,\n",
    "            fmt = \".3g\", \n",
    "            cmap = sns.color_palette(\"mako\", as_cmap=True),\n",
    "            linecolor = \"white\",\n",
    "            linewidths = 0.3,\n",
    "            xticklabels = [\"Faux\",\"Vrai\"],\n",
    "            yticklabels=[\"False\",\"True\"]\n",
    "            )\n",
    "plt.xlabel(\"Is_genuine\")\n",
    "plt.ylabel(\"Predictions\")\n",
    "plt.title(\"Matrice de confusion\")"
   ]
  },
  {
   "cell_type": "markdown",
   "id": "f3535131",
   "metadata": {},
   "source": [
    "Interprétation de la matrice de confusion :\n",
    "Parmi les 1000 vrais billets :\n",
    "\n",
    "- 996 ont été bien placés (vrais billets)\n",
    "- 5 ont été prédis comme étant faux alors qu'ils étaient vrai (faux négatifs)\n",
    "\n",
    "Parmi les 500 faux billets :\n",
    "- 490 sont biens placés (faux billets)\n",
    "- 9 sont prédis comme étant vrais alors qu'ils sont faux en réalité (faux positifs)"
   ]
  },
  {
   "cell_type": "code",
   "execution_count": 50,
   "id": "b9f8c882",
   "metadata": {},
   "outputs": [
    {
     "name": "stdout",
     "output_type": "stream",
     "text": [
      "sensivity = 99.5 %\n",
      "specificity = 98.2 %\n",
      "Le taux precision est 99.07 %\n",
      "Le taux erreur est de 0.93 %\n"
     ]
    }
   ],
   "source": [
    "vrai_negatif = conf_mat.loc[0,0]\n",
    "faux_negatif = conf_mat.loc[0,1]\n",
    "faux_positif = conf_mat.loc[1,0]\n",
    "vrai_positif = conf_mat.loc[1,1]\n",
    "\n",
    "# Calcul de la sensibilité (taux de vrais positifs = Vrai_positif/(vrai_positif + faux_negatif))\n",
    "Taux_sensitivite = (vrai_positif / float(vrai_positif + faux_negatif))\n",
    "\n",
    "# Calcul de la spécificité (taux de vrais négatifs = Vrai_negatif/(vrai_negatif + faux_positif))\n",
    "Taux_specificite = (vrai_negatif / float(vrai_negatif + faux_positif))\n",
    "\n",
    "# Calcul de la précision \n",
    "Taux_precision = (float (vrai_positif + vrai_negatif) / float(vrai_negatif + faux_positif + faux_negatif + vrai_positif))\n",
    "\n",
    "# Calcul d'erreur\n",
    "Taux_erreur = (faux_positif + faux_negatif) / (vrai_negatif + faux_positif + faux_negatif + vrai_positif)\n",
    "\n",
    "print(\"sensivity =\",round((Taux_sensitivite)*100,2),'%')\n",
    "print(\"specificity =\",round((Taux_specificite)*100,2),'%')\n",
    "print('Le taux precision est', round((Taux_precision)*100,2), '%')\n",
    "print('Le taux erreur est de', round((Taux_erreur)*100,2), '%')"
   ]
  },
  {
   "cell_type": "markdown",
   "id": "d9e355c9",
   "metadata": {},
   "source": [
    "## Test nouvel échantillon"
   ]
  },
  {
   "cell_type": "code",
   "execution_count": 51,
   "id": "a0e56aeb",
   "metadata": {},
   "outputs": [
    {
     "data": {
      "text/html": [
       "<div>\n",
       "<style scoped>\n",
       "    .dataframe tbody tr th:only-of-type {\n",
       "        vertical-align: middle;\n",
       "    }\n",
       "\n",
       "    .dataframe tbody tr th {\n",
       "        vertical-align: top;\n",
       "    }\n",
       "\n",
       "    .dataframe thead th {\n",
       "        text-align: right;\n",
       "    }\n",
       "</style>\n",
       "<table border=\"1\" class=\"dataframe\">\n",
       "  <thead>\n",
       "    <tr style=\"text-align: right;\">\n",
       "      <th></th>\n",
       "      <th>diagonal</th>\n",
       "      <th>height_left</th>\n",
       "      <th>height_right</th>\n",
       "      <th>margin_low</th>\n",
       "      <th>margin_up</th>\n",
       "      <th>length</th>\n",
       "      <th>id</th>\n",
       "    </tr>\n",
       "  </thead>\n",
       "  <tbody>\n",
       "    <tr>\n",
       "      <th>0</th>\n",
       "      <td>171.76</td>\n",
       "      <td>104.01</td>\n",
       "      <td>103.54</td>\n",
       "      <td>5.21</td>\n",
       "      <td>3.30</td>\n",
       "      <td>111.42</td>\n",
       "      <td>A_1</td>\n",
       "    </tr>\n",
       "    <tr>\n",
       "      <th>1</th>\n",
       "      <td>171.87</td>\n",
       "      <td>104.17</td>\n",
       "      <td>104.13</td>\n",
       "      <td>6.00</td>\n",
       "      <td>3.31</td>\n",
       "      <td>112.09</td>\n",
       "      <td>A_2</td>\n",
       "    </tr>\n",
       "    <tr>\n",
       "      <th>2</th>\n",
       "      <td>172.00</td>\n",
       "      <td>104.58</td>\n",
       "      <td>104.29</td>\n",
       "      <td>4.99</td>\n",
       "      <td>3.39</td>\n",
       "      <td>111.57</td>\n",
       "      <td>A_3</td>\n",
       "    </tr>\n",
       "    <tr>\n",
       "      <th>3</th>\n",
       "      <td>172.49</td>\n",
       "      <td>104.55</td>\n",
       "      <td>104.34</td>\n",
       "      <td>4.44</td>\n",
       "      <td>3.03</td>\n",
       "      <td>113.20</td>\n",
       "      <td>A_4</td>\n",
       "    </tr>\n",
       "    <tr>\n",
       "      <th>4</th>\n",
       "      <td>171.65</td>\n",
       "      <td>103.63</td>\n",
       "      <td>103.56</td>\n",
       "      <td>3.77</td>\n",
       "      <td>3.16</td>\n",
       "      <td>113.33</td>\n",
       "      <td>A_5</td>\n",
       "    </tr>\n",
       "  </tbody>\n",
       "</table>\n",
       "</div>"
      ],
      "text/plain": [
       "   diagonal  height_left  height_right  margin_low  margin_up  length   id\n",
       "0    171.76       104.01        103.54        5.21       3.30  111.42  A_1\n",
       "1    171.87       104.17        104.13        6.00       3.31  112.09  A_2\n",
       "2    172.00       104.58        104.29        4.99       3.39  111.57  A_3\n",
       "3    172.49       104.55        104.34        4.44       3.03  113.20  A_4\n",
       "4    171.65       103.63        103.56        3.77       3.16  113.33  A_5"
      ]
     },
     "execution_count": 51,
     "metadata": {},
     "output_type": "execute_result"
    }
   ],
   "source": [
    "df_billets_production = pd.read_csv('C:/Users/p092279/Desktop/Documents/Data Analyst/P10/billets_production.csv')\n",
    "df_billets_production"
   ]
  },
  {
   "cell_type": "code",
   "execution_count": 52,
   "id": "ae727b96",
   "metadata": {},
   "outputs": [
    {
     "data": {
      "text/plain": [
       "array([[9.95583800e-01, 4.41620020e-03],\n",
       "       [9.99247751e-01, 7.52249217e-04],\n",
       "       [9.98725896e-01, 1.27410353e-03],\n",
       "       [9.27119608e-02, 9.07288039e-01],\n",
       "       [4.50668974e-04, 9.99549331e-01]])"
      ]
     },
     "execution_count": 52,
     "metadata": {},
     "output_type": "execute_result"
    }
   ],
   "source": [
    "# Préparation des données\n",
    "X = df_billets_production.drop(['id'], axis=1)\n",
    "\n",
    "# Application du modèle\n",
    "predict = model.predict(X)\n",
    "\n",
    "# Probabilités\n",
    "model.predict_proba(X)"
   ]
  },
  {
   "cell_type": "code",
   "execution_count": 53,
   "id": "25a0a4c8",
   "metadata": {},
   "outputs": [
    {
     "data": {
      "text/html": [
       "<div>\n",
       "<style scoped>\n",
       "    .dataframe tbody tr th:only-of-type {\n",
       "        vertical-align: middle;\n",
       "    }\n",
       "\n",
       "    .dataframe tbody tr th {\n",
       "        vertical-align: top;\n",
       "    }\n",
       "\n",
       "    .dataframe thead th {\n",
       "        text-align: right;\n",
       "    }\n",
       "</style>\n",
       "<table border=\"1\" class=\"dataframe\">\n",
       "  <thead>\n",
       "    <tr style=\"text-align: right;\">\n",
       "      <th></th>\n",
       "      <th>diagonal</th>\n",
       "      <th>height_left</th>\n",
       "      <th>height_right</th>\n",
       "      <th>margin_low</th>\n",
       "      <th>margin_up</th>\n",
       "      <th>length</th>\n",
       "      <th>Probas_faux</th>\n",
       "      <th>Probas_vrais</th>\n",
       "    </tr>\n",
       "  </thead>\n",
       "  <tbody>\n",
       "    <tr>\n",
       "      <th>0</th>\n",
       "      <td>171.76</td>\n",
       "      <td>104.01</td>\n",
       "      <td>103.54</td>\n",
       "      <td>5.21</td>\n",
       "      <td>3.30</td>\n",
       "      <td>111.42</td>\n",
       "      <td>0.995584</td>\n",
       "      <td>0.004416</td>\n",
       "    </tr>\n",
       "    <tr>\n",
       "      <th>1</th>\n",
       "      <td>171.87</td>\n",
       "      <td>104.17</td>\n",
       "      <td>104.13</td>\n",
       "      <td>6.00</td>\n",
       "      <td>3.31</td>\n",
       "      <td>112.09</td>\n",
       "      <td>0.999248</td>\n",
       "      <td>0.000752</td>\n",
       "    </tr>\n",
       "    <tr>\n",
       "      <th>2</th>\n",
       "      <td>172.00</td>\n",
       "      <td>104.58</td>\n",
       "      <td>104.29</td>\n",
       "      <td>4.99</td>\n",
       "      <td>3.39</td>\n",
       "      <td>111.57</td>\n",
       "      <td>0.998726</td>\n",
       "      <td>0.001274</td>\n",
       "    </tr>\n",
       "    <tr>\n",
       "      <th>3</th>\n",
       "      <td>172.49</td>\n",
       "      <td>104.55</td>\n",
       "      <td>104.34</td>\n",
       "      <td>4.44</td>\n",
       "      <td>3.03</td>\n",
       "      <td>113.20</td>\n",
       "      <td>0.092712</td>\n",
       "      <td>0.907288</td>\n",
       "    </tr>\n",
       "    <tr>\n",
       "      <th>4</th>\n",
       "      <td>171.65</td>\n",
       "      <td>103.63</td>\n",
       "      <td>103.56</td>\n",
       "      <td>3.77</td>\n",
       "      <td>3.16</td>\n",
       "      <td>113.33</td>\n",
       "      <td>0.000451</td>\n",
       "      <td>0.999549</td>\n",
       "    </tr>\n",
       "  </tbody>\n",
       "</table>\n",
       "</div>"
      ],
      "text/plain": [
       "   diagonal  height_left  height_right  margin_low  margin_up  length  \\\n",
       "0    171.76       104.01        103.54        5.21       3.30  111.42   \n",
       "1    171.87       104.17        104.13        6.00       3.31  112.09   \n",
       "2    172.00       104.58        104.29        4.99       3.39  111.57   \n",
       "3    172.49       104.55        104.34        4.44       3.03  113.20   \n",
       "4    171.65       103.63        103.56        3.77       3.16  113.33   \n",
       "\n",
       "   Probas_faux  Probas_vrais  \n",
       "0     0.995584      0.004416  \n",
       "1     0.999248      0.000752  \n",
       "2     0.998726      0.001274  \n",
       "3     0.092712      0.907288  \n",
       "4     0.000451      0.999549  "
      ]
     },
     "execution_count": 53,
     "metadata": {},
     "output_type": "execute_result"
    }
   ],
   "source": [
    "# Calcul des probas d'affectaion sur l'ech. à prédire\n",
    "probas = model.predict_proba(X)\n",
    "\n",
    "X['Probas_faux'] = probas[:,0]\n",
    "X['Probas_vrais'] = probas[:,1]\n",
    "X"
   ]
  },
  {
   "cell_type": "code",
   "execution_count": 54,
   "id": "23e49295",
   "metadata": {},
   "outputs": [
    {
     "data": {
      "text/html": [
       "<div>\n",
       "<style scoped>\n",
       "    .dataframe tbody tr th:only-of-type {\n",
       "        vertical-align: middle;\n",
       "    }\n",
       "\n",
       "    .dataframe tbody tr th {\n",
       "        vertical-align: top;\n",
       "    }\n",
       "\n",
       "    .dataframe thead th {\n",
       "        text-align: right;\n",
       "    }\n",
       "</style>\n",
       "<table border=\"1\" class=\"dataframe\">\n",
       "  <thead>\n",
       "    <tr style=\"text-align: right;\">\n",
       "      <th></th>\n",
       "      <th>id</th>\n",
       "      <th>probalité_true</th>\n",
       "      <th>probalité_false</th>\n",
       "      <th>prédiction</th>\n",
       "    </tr>\n",
       "  </thead>\n",
       "  <tbody>\n",
       "    <tr>\n",
       "      <th>0</th>\n",
       "      <td>A_1</td>\n",
       "      <td>0.44%</td>\n",
       "      <td>99.56%</td>\n",
       "      <td>False</td>\n",
       "    </tr>\n",
       "    <tr>\n",
       "      <th>1</th>\n",
       "      <td>A_2</td>\n",
       "      <td>0.08%</td>\n",
       "      <td>99.92%</td>\n",
       "      <td>False</td>\n",
       "    </tr>\n",
       "    <tr>\n",
       "      <th>2</th>\n",
       "      <td>A_3</td>\n",
       "      <td>0.13%</td>\n",
       "      <td>99.87%</td>\n",
       "      <td>False</td>\n",
       "    </tr>\n",
       "    <tr>\n",
       "      <th>3</th>\n",
       "      <td>A_4</td>\n",
       "      <td>90.73%</td>\n",
       "      <td>9.27%</td>\n",
       "      <td>True</td>\n",
       "    </tr>\n",
       "    <tr>\n",
       "      <th>4</th>\n",
       "      <td>A_5</td>\n",
       "      <td>99.95%</td>\n",
       "      <td>0.05%</td>\n",
       "      <td>True</td>\n",
       "    </tr>\n",
       "  </tbody>\n",
       "</table>\n",
       "</div>"
      ],
      "text/plain": [
       "    id probalité_true probalité_false  prédiction\n",
       "0  A_1          0.44%          99.56%       False\n",
       "1  A_2          0.08%          99.92%       False\n",
       "2  A_3          0.13%          99.87%       False\n",
       "3  A_4         90.73%           9.27%        True\n",
       "4  A_5         99.95%           0.05%        True"
      ]
     },
     "execution_count": 54,
     "metadata": {},
     "output_type": "execute_result"
    }
   ],
   "source": [
    "# Ajout du resultat et création du df\n",
    "prediction=pd.DataFrame({'id': df_billets_production.id,\n",
    "                        'probalité_true' : round((X['Probas_vrais']*100),2).astype(str)+'%',\n",
    "                        'probalité_false' : round((X['Probas_faux']*100),2).astype(str)+'%',\n",
    "                        'prédiction' : predict})\n",
    "\n",
    "prediction"
   ]
  },
  {
   "cell_type": "markdown",
   "id": "3ea44672",
   "metadata": {},
   "source": [
    "## Programme pour l'utilisation du modèle. "
   ]
  },
  {
   "cell_type": "code",
   "execution_count": 55,
   "id": "219738de",
   "metadata": {},
   "outputs": [],
   "source": [
    "#programme pour utiliser le modèle\n",
    "def prediction(link):\n",
    "    df_test = pd.read_csv(link)\n",
    "    x_pred= df_test.copy()\n",
    "    x_pred = x_pred.drop(['id'], axis = 1)\n",
    "    pred = model.predict(x_pred)\n",
    "    prob = model.predict_proba(x_pred)\n",
    "    df_test['proba_vrai']= prob[:,1]\n",
    "    df_test['proba_faux']= prob[:,0]\n",
    "    df_test['Prediction']= pred\n",
    "    \n",
    "    return df_test"
   ]
  },
  {
   "cell_type": "code",
   "execution_count": 56,
   "id": "5644dd30",
   "metadata": {},
   "outputs": [
    {
     "data": {
      "text/html": [
       "<div>\n",
       "<style scoped>\n",
       "    .dataframe tbody tr th:only-of-type {\n",
       "        vertical-align: middle;\n",
       "    }\n",
       "\n",
       "    .dataframe tbody tr th {\n",
       "        vertical-align: top;\n",
       "    }\n",
       "\n",
       "    .dataframe thead th {\n",
       "        text-align: right;\n",
       "    }\n",
       "</style>\n",
       "<table border=\"1\" class=\"dataframe\">\n",
       "  <thead>\n",
       "    <tr style=\"text-align: right;\">\n",
       "      <th></th>\n",
       "      <th>diagonal</th>\n",
       "      <th>height_left</th>\n",
       "      <th>height_right</th>\n",
       "      <th>margin_low</th>\n",
       "      <th>margin_up</th>\n",
       "      <th>length</th>\n",
       "      <th>id</th>\n",
       "      <th>proba_vrai</th>\n",
       "      <th>proba_faux</th>\n",
       "      <th>Prediction</th>\n",
       "    </tr>\n",
       "  </thead>\n",
       "  <tbody>\n",
       "    <tr>\n",
       "      <th>0</th>\n",
       "      <td>171.76</td>\n",
       "      <td>104.01</td>\n",
       "      <td>103.54</td>\n",
       "      <td>5.21</td>\n",
       "      <td>3.30</td>\n",
       "      <td>111.42</td>\n",
       "      <td>A_1</td>\n",
       "      <td>0.004416</td>\n",
       "      <td>0.995584</td>\n",
       "      <td>False</td>\n",
       "    </tr>\n",
       "    <tr>\n",
       "      <th>1</th>\n",
       "      <td>171.87</td>\n",
       "      <td>104.17</td>\n",
       "      <td>104.13</td>\n",
       "      <td>6.00</td>\n",
       "      <td>3.31</td>\n",
       "      <td>112.09</td>\n",
       "      <td>A_2</td>\n",
       "      <td>0.000752</td>\n",
       "      <td>0.999248</td>\n",
       "      <td>False</td>\n",
       "    </tr>\n",
       "    <tr>\n",
       "      <th>2</th>\n",
       "      <td>172.00</td>\n",
       "      <td>104.58</td>\n",
       "      <td>104.29</td>\n",
       "      <td>4.99</td>\n",
       "      <td>3.39</td>\n",
       "      <td>111.57</td>\n",
       "      <td>A_3</td>\n",
       "      <td>0.001274</td>\n",
       "      <td>0.998726</td>\n",
       "      <td>False</td>\n",
       "    </tr>\n",
       "    <tr>\n",
       "      <th>3</th>\n",
       "      <td>172.49</td>\n",
       "      <td>104.55</td>\n",
       "      <td>104.34</td>\n",
       "      <td>4.44</td>\n",
       "      <td>3.03</td>\n",
       "      <td>113.20</td>\n",
       "      <td>A_4</td>\n",
       "      <td>0.907288</td>\n",
       "      <td>0.092712</td>\n",
       "      <td>True</td>\n",
       "    </tr>\n",
       "    <tr>\n",
       "      <th>4</th>\n",
       "      <td>171.65</td>\n",
       "      <td>103.63</td>\n",
       "      <td>103.56</td>\n",
       "      <td>3.77</td>\n",
       "      <td>3.16</td>\n",
       "      <td>113.33</td>\n",
       "      <td>A_5</td>\n",
       "      <td>0.999549</td>\n",
       "      <td>0.000451</td>\n",
       "      <td>True</td>\n",
       "    </tr>\n",
       "  </tbody>\n",
       "</table>\n",
       "</div>"
      ],
      "text/plain": [
       "   diagonal  height_left  height_right  margin_low  margin_up  length   id  \\\n",
       "0    171.76       104.01        103.54        5.21       3.30  111.42  A_1   \n",
       "1    171.87       104.17        104.13        6.00       3.31  112.09  A_2   \n",
       "2    172.00       104.58        104.29        4.99       3.39  111.57  A_3   \n",
       "3    172.49       104.55        104.34        4.44       3.03  113.20  A_4   \n",
       "4    171.65       103.63        103.56        3.77       3.16  113.33  A_5   \n",
       "\n",
       "   proba_vrai  proba_faux  Prediction  \n",
       "0    0.004416    0.995584       False  \n",
       "1    0.000752    0.999248       False  \n",
       "2    0.001274    0.998726       False  \n",
       "3    0.907288    0.092712        True  \n",
       "4    0.999549    0.000451        True  "
      ]
     },
     "execution_count": 56,
     "metadata": {},
     "output_type": "execute_result"
    }
   ],
   "source": [
    "prediction('C:/Users/p092279/Desktop/Documents/Data Analyst/P10/billets_production.csv')"
   ]
  },
  {
   "cell_type": "code",
   "execution_count": null,
   "id": "5a845ddb",
   "metadata": {},
   "outputs": [],
   "source": []
  }
 ],
 "metadata": {
  "kernelspec": {
   "display_name": "Python 3",
   "language": "python",
   "name": "python3"
  },
  "language_info": {
   "codemirror_mode": {
    "name": "ipython",
    "version": 3
   },
   "file_extension": ".py",
   "mimetype": "text/x-python",
   "name": "python",
   "nbconvert_exporter": "python",
   "pygments_lexer": "ipython3",
   "version": "3.8.8"
  }
 },
 "nbformat": 4,
 "nbformat_minor": 5
}
